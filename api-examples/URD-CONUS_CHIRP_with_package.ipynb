{
 "cells": [
  {
   "cell_type": "markdown",
   "metadata": {},
   "source": [
    "# Comparing CHIRPS and URD Precipitation Data in Wyoming\n",
    "\n",
    " \n",
    "In this demo we are comparing two historical precipitation datasets - __[CHIRPS](http://data.planetos.com/datasets/chg_chirps_global_05)__ and Unified Rain Gauge Data (__[URD](http://data.planetos.com/datasets/noaa_urd_conus)__)\n",
    "\n",
    "\n",
    "Climate Hazards Group InfraRed Precipitation with Station data (CHIRPS) is a global **30+ year** gridded rainfall dataset using satellite and _in situ_ data with a resolution 0.05 degrees, while the Unified Raingauge dataset (URD) for the U.S. is a **60+ year** gridded analysis of precipitation using in _situ data_ with resolution of 0.25 degrees. \n",
    "Using these datasets you can analyse extreme events that occured in the past or identify long time precipitation trends.\n",
    "Even though CHIRPS and URD have some differences, trends remain similar.\n",
    "\n",
    "\n",
    "**In this demo we will**:\n",
    "\n",
    "1) demonstrate the use of package API to fetch data;\n",
    "\n",
    "\n",
    "2) show data from one point;\n",
    "\n",
    "\n",
    "3) investigate data to:\n",
    "    \n",
    "    a. find the maximum precipitation over the entire period\n",
    "    \n",
    "    b. get average yearly values and compare them with time-series plot\n",
    "\n",
    "    c. find out average number of dry days in both of the datasets\n",
    "\n",
    "    d. get 95'th and 99'th percentiles for extreme event comparison\n",
    "    \n",
    "    e. compare average monthly values\n",
    "\n"
   ]
  },
  {
   "cell_type": "code",
   "execution_count": 1,
   "metadata": {
    "collapsed": true
   },
   "outputs": [],
   "source": [
    "%matplotlib notebook\n",
    "import numpy as np\n",
    "from dh_py_access import package_api\n",
    "import dh_py_access.lib.datahub as datahub\n",
    "import xarray as xr\n",
    "import matplotlib.pyplot as plt\n",
    "from mpl_toolkits.basemap import Basemap\n",
    "from po_data_process import get_data_in_pandas_dataframe, make_plot,get_comparison_graph\n",
    "import dh_py_access.package_api as package_api\n",
    "import matplotlib.gridspec as gridspec\n",
    "import calendar\n",
    "import warnings\n",
    "warnings.filterwarnings(\"ignore\")"
   ]
  },
  {
   "cell_type": "markdown",
   "metadata": {},
   "source": [
    "<font color='red'>Please put your datahub API key into a file called APIKEY and place it to the notebook folder or assign your API key directly to the variable API_key!</font>"
   ]
  },
  {
   "cell_type": "code",
   "execution_count": 2,
   "metadata": {
    "collapsed": true
   },
   "outputs": [],
   "source": [
    "server = 'api.planetos.com'\n",
    "API_key = open('APIKEY').readlines()[0].strip() #'<YOUR API KEY HERE>'\n",
    "version = 'v1'"
   ]
  },
  {
   "cell_type": "markdown",
   "metadata": {},
   "source": [
    "We need to define the dataset names as well as the spatial and temporal ranges. Please note that the datasets have different time ranges. At first, we will download as much data as possible. "
   ]
  },
  {
   "cell_type": "code",
   "execution_count": 3,
   "metadata": {
    "collapsed": true
   },
   "outputs": [],
   "source": [
    "dh=datahub.datahub(server,version,API_key)\n",
    "dataset1='noaa_urd_conus'\n",
    "variable_name1 = 'precip'\n",
    "dataset2='chg_chirps_global_05'\n",
    "variable_name2 = variable_name1\n",
    "time_start = '1948-01-01T00:00:00'\n",
    "time_end = '2017-10-16T00:00:00'"
   ]
  },
  {
   "cell_type": "code",
   "execution_count": 4,
   "metadata": {
    "collapsed": true
   },
   "outputs": [],
   "source": [
    "area_name = 'Wyoming'\n",
    "latitude_north = 45.05; longitude_west = -111.11\n",
    "latitude_south = 41.00; longitude_east = -104.02"
   ]
  },
  {
   "cell_type": "markdown",
   "metadata": {},
   "source": [
    "## Download the data with package API\n",
    "1. Create package objects\n",
    "2. Send commands for the package creation\n",
    "3. Download the package files\n",
    "\n",
    "_Note that those packages both have over 30 years of data and downloading them might take some time_"
   ]
  },
  {
   "cell_type": "code",
   "execution_count": 5,
   "metadata": {
    "collapsed": true
   },
   "outputs": [],
   "source": [
    "package_noaa_urd_conus=package_api.package_api(dh,dataset1,variable_name1,longitude_west,longitude_east,latitude_south,latitude_north,time_start,time_end,area_name=area_name)\n",
    "package_chg_chirps_global_05=package_api.package_api(dh,dataset2,variable_name2,longitude_west,longitude_east,latitude_south,latitude_north,time_start,time_end,area_name=area_name)"
   ]
  },
  {
   "cell_type": "code",
   "execution_count": 6,
   "metadata": {
    "scrolled": true
   },
   "outputs": [
    {
     "name": "stdout",
     "output_type": "stream",
     "text": [
      "{'packageSubmitted': True, 'packageStatus': {'message': 'success'}, 'packageResult': {'success': True}}\n",
      "Package exists\n"
     ]
    }
   ],
   "source": [
    "package_noaa_urd_conus.make_package()"
   ]
  },
  {
   "cell_type": "code",
   "execution_count": 7,
   "metadata": {},
   "outputs": [
    {
     "name": "stdout",
     "output_type": "stream",
     "text": [
      "http://api.planetos.com/v1/packages?apikey=8428878e4b944abeb84790e832c633fc&dataset=chg_chirps_global_05&package=chg_chirps_global_05_19480101T000000to20171016T000000_Wyoming&var=precip&z=all&polygon=%5B%5B-111.11%2C+41.0%5D%2C+%5B-104.02%2C+41.0%5D%2C+%5B-104.02%2C+45.05%5D%2C+%5B-111.11%2C+45.05%5D%2C+%5B-111.11%2C+41.0%5D%5D&time_start=1948-01-01T00%3A00%3A00&time_end=2017-10-16T00%3A00%3A00\n"
     ]
    }
   ],
   "source": [
    "package_chg_chirps_global_05.make_package()"
   ]
  },
  {
   "cell_type": "code",
   "execution_count": 8,
   "metadata": {
    "scrolled": false
   },
   "outputs": [
    {
     "name": "stdout",
     "output_type": "stream",
     "text": [
      "File already downloaded\n",
      "Package was not downloaded and error was not detected. It is safe to run \"download_package\" function as many times as needed.\n"
     ]
    }
   ],
   "source": [
    "package_noaa_urd_conus.download_package()\n",
    "package_chg_chirps_global_05.download_package()"
   ]
  },
  {
   "cell_type": "markdown",
   "metadata": {},
   "source": [
    "## Work with downloaded files\n",
    "1. Open files with xarray\n",
    "2. Plot downloaded area and show orography on the background\n",
    "3. Compute some interesting statistics for the dataset comparison"
   ]
  },
  {
   "cell_type": "code",
   "execution_count": 9,
   "metadata": {},
   "outputs": [
    {
     "ename": "OSError",
     "evalue": "No such file or directory",
     "output_type": "error",
     "traceback": [
      "\u001b[0;31m---------------------------------------------------------------------------\u001b[0m",
      "\u001b[0;31mOSError\u001b[0m                                   Traceback (most recent call last)",
      "\u001b[0;32m<ipython-input-9-0fdbf26b558e>\u001b[0m in \u001b[0;36m<module>\u001b[0;34m()\u001b[0m\n\u001b[1;32m      3\u001b[0m \u001b[0mdd1\u001b[0m \u001b[0;34m=\u001b[0m \u001b[0mxr\u001b[0m\u001b[0;34m.\u001b[0m\u001b[0mconventions\u001b[0m\u001b[0;34m.\u001b[0m\u001b[0mdecode_cf\u001b[0m\u001b[0;34m(\u001b[0m\u001b[0mdd1\u001b[0m\u001b[0;34m)\u001b[0m\u001b[0;34m\u001b[0m\u001b[0m\n\u001b[1;32m      4\u001b[0m \u001b[0;34m\u001b[0m\u001b[0m\n\u001b[0;32m----> 5\u001b[0;31m \u001b[0mdd2\u001b[0m \u001b[0;34m=\u001b[0m \u001b[0mxr\u001b[0m\u001b[0;34m.\u001b[0m\u001b[0mopen_dataset\u001b[0m\u001b[0;34m(\u001b[0m\u001b[0mpackage_chg_chirps_global_05\u001b[0m\u001b[0;34m.\u001b[0m\u001b[0mlocal_file_name\u001b[0m\u001b[0;34m)\u001b[0m\u001b[0;34m\u001b[0m\u001b[0m\n\u001b[0m",
      "\u001b[0;32m/Users/etoodu/anaconda/envs/py36/lib/python3.6/site-packages/xarray/backends/api.py\u001b[0m in \u001b[0;36mopen_dataset\u001b[0;34m(filename_or_obj, group, decode_cf, mask_and_scale, decode_times, autoclose, concat_characters, decode_coords, engine, chunks, lock, cache, drop_variables)\u001b[0m\n\u001b[1;32m    280\u001b[0m         \u001b[0;32mif\u001b[0m \u001b[0mengine\u001b[0m \u001b[0;34m==\u001b[0m \u001b[0;34m'netcdf4'\u001b[0m\u001b[0;34m:\u001b[0m\u001b[0;34m\u001b[0m\u001b[0m\n\u001b[1;32m    281\u001b[0m             store = backends.NetCDF4DataStore(filename_or_obj, group=group,\n\u001b[0;32m--> 282\u001b[0;31m                                               autoclose=autoclose)\n\u001b[0m\u001b[1;32m    283\u001b[0m         \u001b[0;32melif\u001b[0m \u001b[0mengine\u001b[0m \u001b[0;34m==\u001b[0m \u001b[0;34m'scipy'\u001b[0m\u001b[0;34m:\u001b[0m\u001b[0;34m\u001b[0m\u001b[0m\n\u001b[1;32m    284\u001b[0m             store = backends.ScipyDataStore(filename_or_obj,\n",
      "\u001b[0;32m/Users/etoodu/anaconda/envs/py36/lib/python3.6/site-packages/xarray/backends/netCDF4_.py\u001b[0m in \u001b[0;36m__init__\u001b[0;34m(self, filename, mode, format, group, writer, clobber, diskless, persist, autoclose)\u001b[0m\n\u001b[1;32m    208\u001b[0m                                    \u001b[0mdiskless\u001b[0m\u001b[0;34m=\u001b[0m\u001b[0mdiskless\u001b[0m\u001b[0;34m,\u001b[0m \u001b[0mpersist\u001b[0m\u001b[0;34m=\u001b[0m\u001b[0mpersist\u001b[0m\u001b[0;34m,\u001b[0m\u001b[0;34m\u001b[0m\u001b[0m\n\u001b[1;32m    209\u001b[0m                                    format=format)\n\u001b[0;32m--> 210\u001b[0;31m         \u001b[0mself\u001b[0m\u001b[0;34m.\u001b[0m\u001b[0mds\u001b[0m \u001b[0;34m=\u001b[0m \u001b[0mopener\u001b[0m\u001b[0;34m(\u001b[0m\u001b[0;34m)\u001b[0m\u001b[0;34m\u001b[0m\u001b[0m\n\u001b[0m\u001b[1;32m    211\u001b[0m         \u001b[0mself\u001b[0m\u001b[0;34m.\u001b[0m\u001b[0m_autoclose\u001b[0m \u001b[0;34m=\u001b[0m \u001b[0mautoclose\u001b[0m\u001b[0;34m\u001b[0m\u001b[0m\n\u001b[1;32m    212\u001b[0m         \u001b[0mself\u001b[0m\u001b[0;34m.\u001b[0m\u001b[0m_isopen\u001b[0m \u001b[0;34m=\u001b[0m \u001b[0;32mTrue\u001b[0m\u001b[0;34m\u001b[0m\u001b[0m\n",
      "\u001b[0;32m/Users/etoodu/anaconda/envs/py36/lib/python3.6/site-packages/xarray/backends/netCDF4_.py\u001b[0m in \u001b[0;36m_open_netcdf4_group\u001b[0;34m(filename, mode, group, **kwargs)\u001b[0m\n\u001b[1;32m    183\u001b[0m     \u001b[0;32mimport\u001b[0m \u001b[0mnetCDF4\u001b[0m \u001b[0;32mas\u001b[0m \u001b[0mnc4\u001b[0m\u001b[0;34m\u001b[0m\u001b[0m\n\u001b[1;32m    184\u001b[0m \u001b[0;34m\u001b[0m\u001b[0m\n\u001b[0;32m--> 185\u001b[0;31m     \u001b[0mds\u001b[0m \u001b[0;34m=\u001b[0m \u001b[0mnc4\u001b[0m\u001b[0;34m.\u001b[0m\u001b[0mDataset\u001b[0m\u001b[0;34m(\u001b[0m\u001b[0mfilename\u001b[0m\u001b[0;34m,\u001b[0m \u001b[0mmode\u001b[0m\u001b[0;34m=\u001b[0m\u001b[0mmode\u001b[0m\u001b[0;34m,\u001b[0m \u001b[0;34m**\u001b[0m\u001b[0mkwargs\u001b[0m\u001b[0;34m)\u001b[0m\u001b[0;34m\u001b[0m\u001b[0m\n\u001b[0m\u001b[1;32m    186\u001b[0m \u001b[0;34m\u001b[0m\u001b[0m\n\u001b[1;32m    187\u001b[0m     \u001b[0;32mwith\u001b[0m \u001b[0mclose_on_error\u001b[0m\u001b[0;34m(\u001b[0m\u001b[0mds\u001b[0m\u001b[0;34m)\u001b[0m\u001b[0;34m:\u001b[0m\u001b[0;34m\u001b[0m\u001b[0m\n",
      "\u001b[0;32mnetCDF4/_netCDF4.pyx\u001b[0m in \u001b[0;36mnetCDF4._netCDF4.Dataset.__init__ (netCDF4/_netCDF4.c:13222)\u001b[0;34m()\u001b[0m\n",
      "\u001b[0;31mOSError\u001b[0m: No such file or directory"
     ]
    }
   ],
   "source": [
    "dd1 = xr.open_dataset(package_noaa_urd_conus.local_file_name,decode_cf=False)\n",
    "del (dd1['precip'].attrs['missing_value'])\n",
    "dd1 = xr.conventions.decode_cf(dd1)\n",
    "\n",
    "dd2 = xr.open_dataset(package_chg_chirps_global_05.local_file_name)"
   ]
  },
  {
   "cell_type": "markdown",
   "metadata": {},
   "source": [
    "Here you can see the total precipitation of Wyoming State over the past 36 years from CHIRPS data. It is as easy to test it with URD data. You just have to change dd2 to dd1 in the box below."
   ]
  },
  {
   "cell_type": "code",
   "execution_count": null,
   "metadata": {
    "scrolled": false
   },
   "outputs": [],
   "source": [
    "m_demo=Basemap(projection='merc',llcrnrlat=latitude_south-5,urcrnrlat=latitude_north+5,\\\n",
    "            llcrnrlon=longitude_west-7,urcrnrlon=longitude_east+7,lat_ts=(latitude_north+latitude_south)/2,resolution='i')\n",
    "Dx,Dy = np.meshgrid(dd2.longitude.data,dd2.latitude.data)\n",
    "dx,dy = m_demo(Dx,Dy)\n",
    "fig=plt.figure(figsize=(7,7))\n",
    "m_demo.pcolormesh(dx,dy,np.sum(dd2.precip.data[:,:,:],axis=0))\n",
    "plt.colorbar(fraction=0.042, pad=0.04)\n",
    "m_demo.drawcoastlines()\n",
    "m_demo.drawcountries()\n",
    "m_demo.etopo()\n",
    "\n",
    "plt.show()"
   ]
  },
  {
   "cell_type": "markdown",
   "metadata": {},
   "source": [
    "### Basic statistics \n",
    "We try to compute the following simple statistics with distributions inside the small domain where possible, and compare the values from the two datasets against each other.\n",
    "1. Average yearly values\n",
    "2. Number of dry days \n",
    "3. Number of days with precipitation over 10 mm\n",
    "4. 95'th and 99'th percentiles\n",
    "5. Average monthly values\n",
    "\n"
   ]
  },
  {
   "cell_type": "markdown",
   "metadata": {},
   "source": [
    "We metioned that you should note the difference in time ranges. Let's see why."
   ]
  },
  {
   "cell_type": "code",
   "execution_count": null,
   "metadata": {},
   "outputs": [],
   "source": [
    "yearly_sum1 = dd1.precip.resample('1AS', dim='time', how='sum')\n",
    "yearly_mean_sum1 = yearly_sum1.mean(axis=(1,2))\n",
    "\n",
    "yearly_sum2 = dd2.precip.resample('1AS', dim='time', how='sum')\n",
    "yearly_mean_sum2 = yearly_sum2.mean(axis=(1,2))\n",
    "\n",
    "\n",
    "\n",
    "fig = plt.figure(figsize=(10,5))\n",
    "plt.plot(yearly_mean_sum1.time,yearly_mean_sum1, '*-',linewidth = 1,label = dataset1)  \n",
    "plt.plot(yearly_mean_sum2.time,yearly_mean_sum2, '*-',linewidth = 1,c='red',label = dataset2)\n",
    "plt.legend()\n",
    "plt.show()\n"
   ]
  },
  {
   "cell_type": "markdown",
   "metadata": {},
   "source": [
    "In the plot above we can see that the __[URD](http://data.planetos.com/datasets/noaa_urd_conus)__ dataset temporal extent goes back to 1948, whereas the __[CHIRPS](http://data.planetos.com/datasets/chg_chirps_global_05)__ starts from 1981. As we want to compare the two datasets, we want the URD data to start from 1981 as well. "
   ]
  },
  {
   "cell_type": "code",
   "execution_count": null,
   "metadata": {
    "collapsed": true
   },
   "outputs": [],
   "source": [
    "time_start = '1981-01-01T00:00:00'\n",
    "\n",
    "dd1 = dd1.sel(time = slice(time_start,time_end))\n",
    "dd1_dat = np.ma.masked_where(np.isnan(dd1.precip.data),dd1.precip.data)\n",
    "dd1['lon'] = ((dd1.lon+180) % 360) - 180\n",
    "dd2_dat = dd2.precip.data\n"
   ]
  },
  {
   "cell_type": "markdown",
   "metadata": {},
   "source": [
    "Now we look into the maximum precipitation of the entire period. We can see that the URD is getting bigger values and in our last plot, we also saw that the URD data had bigger values."
   ]
  },
  {
   "cell_type": "code",
   "execution_count": null,
   "metadata": {
    "scrolled": true
   },
   "outputs": [],
   "source": [
    "# maximum precipitation over the whole period\n",
    "print ('\\033[1mMaximum precipitation over the whole period \\033[0m')\n",
    "print(dataset1 + '\\t\\t' + str(np.nanmax(dd1_dat)))\n",
    "print(dataset2 + '\\t' + str(np.nanmax(dd2_dat)))"
   ]
  },
  {
   "cell_type": "markdown",
   "metadata": {},
   "source": [
    "Below you can see the minimum, maximum and the average number of dry days. As we can see, the number of dry days is larger in the CHIRPS dataset. This can in part be explained by the resolution difference, i.e. one observation influences larger area in lower resolution grid. However, the difference 3000 vs 9000 dry days over the 36 year period is still pretty big and it requires some special attention when making the statistics using these datasets."
   ]
  },
  {
   "cell_type": "code",
   "execution_count": null,
   "metadata": {},
   "outputs": [],
   "source": [
    "dd1_dry_days = np.sum(np.where(dd1_dat>0.1,0,1),axis=0)\n",
    "dd2_dry_days = np.sum(np.where(dd2_dat>0.1,0,1),axis=0)\n",
    "\n",
    "# minimum, maximum and average nr of dry days\n",
    "print ('\\033[1mNumber of dry days:\\tMinimum\\t Maximum Average\\033[0m')\n",
    "print(dataset1 + '\\t\\t' + str(np.amin(dd1_dry_days)), '\\t',str(np.amax(dd1_dry_days)),'\\t',str(np.mean(dd1_dry_days)))\n",
    "print(dataset2 + '\\t' + str(np.amin(dd2_dry_days)),'\\t',str(np.amax(dd2_dry_days)),'\\t',str(np.mean(dd2_dry_days)))"
   ]
  },
  {
   "cell_type": "markdown",
   "metadata": {},
   "source": [
    "Now we are making a plot of the average number of dry days over the grid. In the plot we can see similar result with the last table. CHIRPS dataset has more dry days than the URD. And because of the resolution differences CHIRPS is smoother. "
   ]
  },
  {
   "cell_type": "code",
   "execution_count": null,
   "metadata": {},
   "outputs": [],
   "source": [
    "#average nr of dry days over the grid\n",
    "get_comparison_graph(dd1.lon,dd1.lat,dd1_dry_days,dd2.longitude,dd2.latitude,dd2_dry_days,'Average nr of dry days over the grid')"
   ]
  },
  {
   "cell_type": "markdown",
   "metadata": {},
   "source": [
    "## Percentiles"
   ]
  },
  {
   "cell_type": "markdown",
   "metadata": {},
   "source": [
    "In this section we are going to compute percentiles the 99 percentiles and 95 percentiles."
   ]
  },
  {
   "cell_type": "code",
   "execution_count": null,
   "metadata": {
    "collapsed": true
   },
   "outputs": [],
   "source": [
    "dd1_25=np.nanpercentile(dd1_dat,25,axis=0)\n",
    "dd1_95=np.nanpercentile(dd1_dat,95,axis=0)\n",
    "dd1_99=np.nanpercentile(dd1_dat,99,axis=0)\n",
    "dd1_999=np.nanpercentile(dd1_dat,99.9,axis=0)\n",
    "dd2_25=np.nanpercentile(dd2_dat,25,axis=0)\n",
    "dd2_95=np.percentile(dd2_dat,95,axis=0)\n",
    "dd2_99=np.percentile(dd2_dat,99,axis=0)\n",
    "dd2_999=np.nanpercentile(dd2_dat,99.9,axis=0)"
   ]
  },
  {
   "cell_type": "markdown",
   "metadata": {},
   "source": [
    "In the box above we got 99 and 95 percentiles for both datasets and we are now making a comparison plot about 99 percetiles. Plot shows the distribution of 99 percentiles. We can see some similarities between the plots, however, different resolution makes it hard to compare. 99 percentiles are showing distribution of heavy precipitation. For example, 25 in the plot means that only on 1 % of cases there has been more daily precipitation than 25 mm.  "
   ]
  },
  {
   "cell_type": "code",
   "execution_count": null,
   "metadata": {},
   "outputs": [],
   "source": [
    "get_comparison_graph(dd1.lon,dd1.lat,dd1_99,dd2.longitude,dd2.latitude,dd2_99,'99 percentiles')"
   ]
  },
  {
   "cell_type": "markdown",
   "metadata": {},
   "source": [
    "However, when we look at the averages of the precentiles, we can see that statistically the distribution of stronger precipitation is similar for all three, 5% of the strongest, 1% of the strongest and 0.1% of the strongest daily precipitations."
   ]
  },
  {
   "cell_type": "code",
   "execution_count": null,
   "metadata": {},
   "outputs": [],
   "source": [
    "## Average precentiles\n",
    "print('Percentiles \\t', dataset1, '\\t', dataset2)\n",
    "print('Percentile 25\\t',np.mean(dd1_25),'\\t',np.mean(dd2_25))\n",
    "print('Percentile 95\\t',np.mean(dd1_95),'\\t\\t',np.mean(dd2_95))\n",
    "print('Percentile 99\\t',np.mean(dd1_99),'\\t\\t',np.mean(dd2_99))\n",
    "print('Percentile 99.9\\t',np.mean(dd1_999),'\\t\\t',np.mean(dd2_999))"
   ]
  },
  {
   "cell_type": "markdown",
   "metadata": {},
   "source": [
    "## Monthly averages over the period"
   ]
  },
  {
   "cell_type": "markdown",
   "metadata": {},
   "source": [
    "Finally, we are comparing monthly averages using the violin plot. "
   ]
  },
  {
   "cell_type": "code",
   "execution_count": null,
   "metadata": {
    "collapsed": true
   },
   "outputs": [],
   "source": [
    "##help(dd1.precip.resample)\n",
    "dd1_monthly_avg = dd1.precip.resample('1MS', dim='time', how='sum')\n",
    "dd2_monthly_avg = dd2.precip.resample('1MS', dim='time', how='sum')"
   ]
  },
  {
   "cell_type": "code",
   "execution_count": null,
   "metadata": {
    "collapsed": true
   },
   "outputs": [],
   "source": [
    "mm_data1 = [];mm_data2 = []\n",
    "for i in range(12):\n",
    "    mmm1 = np.mean(dd1_monthly_avg[i::12,:,:],axis=0).values\n",
    "    mm_data1.append(mmm1)\n",
    "    mmm2 = np.mean(dd2_monthly_avg[i::12,:,:],axis=0).values\n",
    "    mm_data2.append(mmm2)"
   ]
  },
  {
   "cell_type": "markdown",
   "metadata": {
    "collapsed": true
   },
   "source": [
    "In the violin plot below we can see minimum, maximum and mean monthly averages. Blue is referring to URD and orange to CHIRPS. We can see that CHIRPS dataset has smaller monthly values than the URD. However, on five months (April, July, August, September and October), CHIRPS has bigger maximum average precipitation values. URD average minimum values are also bigger than CHIRPS. We witnessed similar pattern in the plot where we made URD and CHIRPS timeseries with annual precipitation. "
   ]
  },
  {
   "cell_type": "code",
   "execution_count": null,
   "metadata": {},
   "outputs": [],
   "source": [
    "fig = plt.figure(figsize = (8,8))\n",
    "ax = fig.add_subplot(111)\n",
    "ax.violinplot(mm_data1,np.arange(0.75,12.75,1),\n",
    "                   showmeans=True,\n",
    "                   showmedians=False)\n",
    "ax.violinplot(mm_data2,np.arange(1.25,13.25,1),\n",
    "                   showmeans=True,\n",
    "                   showmedians=False)\n",
    "plt.setp(ax, xticks = np.arange(1,13,1),\n",
    "         xticklabels=[calendar.month_abbr[m] for m in np.arange(1,13,1)])\n",
    "\n",
    "plt.show()"
   ]
  },
  {
   "cell_type": "code",
   "execution_count": null,
   "metadata": {
    "collapsed": true
   },
   "outputs": [],
   "source": []
  },
  {
   "cell_type": "code",
   "execution_count": null,
   "metadata": {
    "collapsed": true
   },
   "outputs": [],
   "source": []
  }
 ],
 "metadata": {
  "anaconda-cloud": {},
  "kernelspec": {
   "display_name": "Python 3",
   "language": "python",
   "name": "python3"
  },
  "language_info": {
   "codemirror_mode": {
    "name": "ipython",
    "version": 3
   },
   "file_extension": ".py",
   "mimetype": "text/x-python",
   "name": "python",
   "nbconvert_exporter": "python",
   "pygments_lexer": "ipython3",
   "version": "3.6.1"
  }
 },
 "nbformat": 4,
 "nbformat_minor": 2
}
