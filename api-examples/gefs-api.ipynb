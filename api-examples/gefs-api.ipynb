{
 "cells": [
  {
   "cell_type": "markdown",
   "metadata": {},
   "source": [
    "## Planet OS API demo for GEFS \n",
    "\n",
    "Note: this notebook requires python3. \n",
    "\n",
    "This notebook is an introduction to the PlanetOS API data format using the GFS Global Forecast dataset.\n",
    "\n",
    "API documentation is available at http://docs.planetos.com. \n",
    "\n",
    "If you have questions or comments, join the Planet OS Slack community to chat with our development team.\n",
    "\n",
    "For general information on usage of IPython/Jupyter and Matplotlib, please refer to their corresponding documentation. https://ipython.org/ and http://matplotlib.org/\n",
    "\n",
    "\n",
    "### GEFS global probabilistic weather forecast\n",
    "\n",
    "GEFS is a probabilistic weather forecast system, which is composed of 20 model ensemble members, which differ by small fluctuations in model initial conditions. Probabilistic forecasts try to mimic the natural chaotic nature of the atmosphere and usually have higher forecast skill than deterministic weather forecast, after third day or so. However, their interpretation is not trivial and with this demo we encourage users to have deeper look into this kind of data.\n",
    "\n",
    "In this tutorial we analyse precipitation and surface pressure data."
   ]
  },
  {
   "cell_type": "code",
   "execution_count": 1,
   "metadata": {
    "collapsed": true
   },
   "outputs": [],
   "source": [
    "%matplotlib inline\n",
    "import numpy as np\n",
    "import matplotlib.pyplot as plt\n",
    "import dateutil.parser\n",
    "import datetime\n",
    "from urllib.request import urlopen, Request\n",
    "import simplejson as json\n",
    "import pandas as pd"
   ]
  },
  {
   "cell_type": "code",
   "execution_count": 2,
   "metadata": {
    "collapsed": true
   },
   "outputs": [],
   "source": [
    "def extract_reference_time(API_data_loc):\n",
    "    \"\"\"Find reference time that corresponds to most complete forecast. Should be the earliest value.\"\"\"\n",
    "    reftimes = set()\n",
    "    for i in API_data_loc['entries']:\n",
    "        reftimes.update([i['axes']['reftime']])\n",
    "    reftimes=list(reftimes)\n",
    "    if len(reftimes)>1:\n",
    "        reftime = reftimes[0] if dateutil.parser.parse(reftimes[0])<dateutil.parser.parse(reftimes[1]) else reftimes[1]\n",
    "    else:\n",
    "        reftime = reftimes[0]\n",
    "    return reftime"
   ]
  },
  {
   "cell_type": "code",
   "execution_count": 3,
   "metadata": {
    "collapsed": true
   },
   "outputs": [],
   "source": [
    "#latitude = 21.205\n",
    "#longitude = -158.35\n",
    "latitude = 58\n",
    "longitude = 26\n",
    "apikey = open('APIKEY').read().strip()\n",
    "num_ens = 10\n",
    "prec_var = \"Total_precipitation_surface_6_Hour_Accumulation_ens\"\n",
    "pres_var = \"Pressure_surface_ens\""
   ]
  },
  {
   "cell_type": "markdown",
   "metadata": {},
   "source": [
    "GEFS is a model with lots of output variables, which may also change depending of which particular output file you are checking. Analyse the metadata first, filter for variables we may be interested in and limit the API request. \n",
    "\n",
    "__Warning:__ if requesting too many variables, you may get _gateway timeout error_. If this happens, try to specify only one context or variable."
   ]
  },
  {
   "cell_type": "code",
   "execution_count": 4,
   "metadata": {},
   "outputs": [
    {
     "name": "stdout",
     "output_type": "stream",
     "text": [
      "http://api.planetos.com/v1/datasets/noaa-ncep_gefs?apikey=8428878e4b944abeb84790e832c633fc\n"
     ]
    }
   ],
   "source": [
    "API_meta_url = \"http://api.planetos.com/v1/datasets/noaa-ncep_gefs?apikey={}\".format(apikey)\n",
    "request = Request(API_meta_url)\n",
    "response = urlopen(request)\n",
    "API_meta = json.loads(response.read())\n",
    "print(API_meta_url)"
   ]
  },
  {
   "cell_type": "markdown",
   "metadata": {},
   "source": [
    "Filter by parameter name, in this example we wan't to find pressure at surface."
   ]
  },
  {
   "cell_type": "code",
   "execution_count": 5,
   "metadata": {},
   "outputs": [
    {
     "data": {
      "text/plain": [
       "['Pressure_surface_ens']"
      ]
     },
     "execution_count": 5,
     "metadata": {},
     "output_type": "execute_result"
    }
   ],
   "source": [
    "[i['name'] for i in API_meta['Variables'] if 'pressure' in i['name'].lower() and 'surface' in i['name'].lower()]"
   ]
  },
  {
   "cell_type": "markdown",
   "metadata": {},
   "source": [
    "API request for precipitation"
   ]
  },
  {
   "cell_type": "code",
   "execution_count": 13,
   "metadata": {},
   "outputs": [
    {
     "name": "stdout",
     "output_type": "stream",
     "text": [
      "http://dpipe-api.production04.planetos.com/api/v1/datasets/noaa-ncep_gefs/point?lon=26&lat=58&count=2000&verbose=false&apikey=8428878e4b944abeb84790e832c633fc&var=Total_precipitation_surface_6_Hour_Accumulation_ens\n"
     ]
    }
   ],
   "source": [
    "#API_url = \"http://api.planetos.com/v1/datasets/noaa-ncep_gefs/point?lon={0}&lat={1}&count=2000&verbose=false&apikey={2}&var={3}\".format(longitude,latitude,apikey,prec_var)\n",
    "API_url = \"http://dpipe-api.production04.planetos.com/api/v1/datasets/noaa-ncep_gefs/point?lon={0}&lat={1}&count=2000&verbose=false&apikey={2}&var={3}\".format(longitude,latitude,apikey,prec_var)\n",
    "request = Request(API_url)\n",
    "response = urlopen(request)\n",
    "API_data_prec = json.loads(response.read())\n",
    "print(API_url)"
   ]
  },
  {
   "cell_type": "markdown",
   "metadata": {},
   "source": [
    "API request for surface pressure"
   ]
  },
  {
   "cell_type": "code",
   "execution_count": 14,
   "metadata": {},
   "outputs": [
    {
     "name": "stdout",
     "output_type": "stream",
     "text": [
      "http://dpipe-api.production04.planetos.com/api/v1/datasets/noaa-ncep_gefs/point?lon=26&lat=58&count=2000&verbose=false&apikey=8428878e4b944abeb84790e832c633fc&var=Pressure_surface_ens\n"
     ]
    }
   ],
   "source": [
    "#API_url = \"http://api.planetos.com/v1/datasets/noaa-ncep_gefs/point?lon={0}&lat={1}&count=2000&verbose=false&apikey={2}&var={3}\".format(longitude,latitude,apikey,pres_var)\n",
    "API_url = \"http://dpipe-api.production04.planetos.com/api/v1/datasets/noaa-ncep_gefs/point?lon={0}&lat={1}&count=2000&verbose=false&apikey={2}&var={3}\".format(longitude,latitude,apikey,pres_var)\n",
    "request = Request(API_url)\n",
    "response = urlopen(request)\n",
    "API_data_pres = json.loads(response.read())\n",
    "print(API_url)"
   ]
  },
  {
   "cell_type": "markdown",
   "metadata": {},
   "source": [
    "Read data from JSON responce and convert to numpy array for easier plotting"
   ]
  },
  {
   "cell_type": "code",
   "execution_count": 16,
   "metadata": {},
   "outputs": [],
   "source": [
    "## first collect data to dictionaries, then convert to Pandas DataFrame\n",
    "pres_data_dict = {}\n",
    "pres_time_dict = {}\n",
    "prec_data_dict = {}\n",
    "prec_time_dict = {}\n",
    "\n",
    "for i in range(0, num_ens):\n",
    "    pres_data_dict[i] = []\n",
    "    pres_time_dict[i] = []\n",
    "    prec_data_dict[i] = []\n",
    "    prec_time_dict[i] = []\n",
    "    \n",
    "for i in API_data_pres['entries']:\n",
    "    reftime = extract_reference_time(API_data_pres)\n",
    "    if reftime == i['axes']['reftime']:\n",
    "        ## print(\"reftest\", int(i['axes']['ens']))\n",
    "        pres_data_dict[int(i['axes']['ens'])].append(i['data'][pres_var])\n",
    "        pres_time_dict[int(i['axes']['ens'])].append(dateutil.parser.parse(i['axes']['time']))\n",
    "        \n",
    "for i in API_data_prec['entries']:\n",
    "    reftime = extract_reference_time(API_data_prec)\n",
    "    if reftime == i['axes']['reftime']:\n",
    "        prec_data_dict[int(i['axes']['ens'])].append(i['data'][prec_var])\n",
    "        prec_time_dict[int(i['axes']['ens'])].append(dateutil.parser.parse(i['axes']['time']))\n",
    "\n",
    "## check if time scales are equal?!\n",
    "for i in range(2,num_ens):\n",
    "    ##print(i, np.array(pres_time_dict[1]).shape, np.array(pres_time_dict[i]).shape)\n",
    "    if np.amax(np.array(pres_time_dict[1])-np.array(pres_time_dict[i])) != datetime.timedelta(0):\n",
    "        print('timeproblem',np.amax(np.array(pres_time_dict[1])-np.array(pres_time_dict[i])))"
   ]
  },
  {
   "cell_type": "code",
   "execution_count": null,
   "metadata": {
    "collapsed": true
   },
   "outputs": [],
   "source": [
    "pres_pd = pd.DataFrame(pres_data_dict)\n",
    "prec_pd = pd.DataFrame(prec_data_dict)"
   ]
  },
  {
   "cell_type": "code",
   "execution_count": null,
   "metadata": {},
   "outputs": [],
   "source": [
    "prec_pd"
   ]
  },
  {
   "cell_type": "markdown",
   "metadata": {},
   "source": [
    "### Precipitation plots\n",
    "Let's first plot boxplots of ensamble members, showing 6h precipitation and accumulated precipitation."
   ]
  },
  {
   "cell_type": "code",
   "execution_count": null,
   "metadata": {},
   "outputs": [],
   "source": [
    "fig, (ax0, ax2) = plt.subplots(nrows=2,figsize=(20,12))\n",
    "ax0.boxplot(prec_pd)\n",
    "ax0.grid()\n",
    "ax0.set_title(\"Simple ensamble distribution\")\n",
    "ax0.set_ylabel('Precipitation mm/6h')\n",
    "\n",
    "ax2.boxplot(np.cumsum(prec_pd,axis=0))\n",
    "ax2.grid()\n",
    "ax2.set_title(\"Cumulative precipitation distribution\")\n",
    "ax2.set_ylabel('Precipitation mm/6h')\n",
    "ax2.set_xlabel('Forecast steps (each is 6h)')"
   ]
  },
  {
   "cell_type": "markdown",
   "metadata": {},
   "source": [
    "From simple distribution it is immediately visible that ensamble members may have very different values at particular time. Interpretation of this is highly dependent on physical quantity: for precipitation this may reflect changes in actual weather pattern or just small changes in timing of the precipitation event. To get rid of the latter, we use the accumulated precipitation. From this plot it is more evident (depends on particular forecast of course), that variability is smaller. For longer forecasts it may be more reasonable to check only 24h accumulated precipitation."
   ]
  },
  {
   "cell_type": "markdown",
   "metadata": {},
   "source": [
    "### Surface pressure plots\n",
    "Surface pressure variation is better descriptor for actual uncertainty than precipitation"
   ]
  },
  {
   "cell_type": "code",
   "execution_count": null,
   "metadata": {},
   "outputs": [],
   "source": [
    "fig=plt.figure(figsize=(20,10))\n",
    "plt.boxplot(pres_pd)\n",
    "plt.grid()\n",
    "plt.title('Ensamble distribution')\n",
    "plt.ylabel('Pressure Pa')\n",
    "plt.xlabel('Forecast steps (each is 6h)')"
   ]
  },
  {
   "cell_type": "code",
   "execution_count": null,
   "metadata": {},
   "outputs": [],
   "source": [
    "fig=plt.figure(figsize=(20,10))\n",
    "plt.plot(pres_pd)\n",
    "plt.grid()\n",
    "plt.ylabel('Pressure Pa')\n",
    "plt.xlabel('Forecast steps (each is 6h)')"
   ]
  },
  {
   "cell_type": "code",
   "execution_count": null,
   "metadata": {
    "collapsed": true
   },
   "outputs": [],
   "source": []
  }
 ],
 "metadata": {
  "kernelspec": {
   "display_name": "Python 3",
   "language": "python",
   "name": "python3"
  },
  "language_info": {
   "codemirror_mode": {
    "name": "ipython",
    "version": 3
   },
   "file_extension": ".py",
   "mimetype": "text/x-python",
   "name": "python",
   "nbconvert_exporter": "python",
   "pygments_lexer": "ipython3",
   "version": "3.6.1"
  }
 },
 "nbformat": 4,
 "nbformat_minor": 1
}
