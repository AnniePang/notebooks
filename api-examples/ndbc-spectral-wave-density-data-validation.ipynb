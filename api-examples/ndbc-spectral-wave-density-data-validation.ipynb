{
 "cells": [
  {
   "cell_type": "markdown",
   "metadata": {},
   "source": [
    "# NDBC Station 41047 Spectral Wave Density Data\n",
    "\n",
    "This notebook explores the differences between spectral wave density data products for [NDBC Station 41047](http://www.ndbc.noaa.gov/station_page.php?station=41047). It investigates three unique OPeNDAP sources for the data: [Planet OS](http://data.planetos.com/datasets/noaa_ndbc_swden_stations), [NDBC realtime](http://dods.ndbc.noaa.gov/thredds/dodsC/data/swden/41047/41047w9999.nc.html), and [NDBC 2014 historical](http://dods.ndbc.noaa.gov/thredds/dodsC/data/swden/41047/41047w2014.nc.html) products.\n",
    "\n",
    "Planet OS currently acquires spectral wave density data from each individual station's realtime product, which is denoted by the `w9999` nomenclature immediately before the file extension. We would expect the Planet OS product and the NDBC realtime product to be identical.\n",
    "\n",
    "Let's begin with the required imports..."
   ]
  },
  {
   "cell_type": "code",
   "execution_count": 1,
   "metadata": {},
   "outputs": [],
   "source": [
    "%matplotlib inline\n",
    "import matplotlib as mpl\n",
    "import matplotlib.pyplot as plt\n",
    "import numpy as np\n",
    "import pandas as pd\n",
    "import xarray as xr\n",
    "from package_api import download_data_station\n",
    "import datetime"
   ]
  },
  {
   "cell_type": "markdown",
   "metadata": {},
   "source": [
    "Next we'll setup our data sources and acquire the data via OPeNDAP using `xarray`."
   ]
  },
  {
   "cell_type": "code",
   "execution_count": 2,
   "metadata": {
    "collapsed": true
   },
   "outputs": [],
   "source": [
    "API_key = open('APIKEY').readlines()[0].strip() #'<YOUR API KEY HERE>'\n",
    "dataset_key = 'noaa_ndbc_swden_stations'\n",
    "variables = 'spectral_wave_density,mean_wave_dir,principal_wave_dir,wave_spectrum_r1,wave_spectrum_r2'"
   ]
  },
  {
   "cell_type": "code",
   "execution_count": 3,
   "metadata": {},
   "outputs": [
    {
     "name": "stdout",
     "output_type": "stream",
     "text": [
      "/Users/etoodu/Desktop/planetOS/git/notebooks/api-examples\n",
      "https://api.planetos.com/v1/packages?dataset=noaa_ndbc_swden_stations&apikey=8428878e4b944abeb84790e832c633fc&station=41047&grouping=location&reftime_recent=true&time_start=2018-01-01T00:00:00&time_end=2018-07-04T16:14:12&package=noaa_ndbc_swden_stations_20180101T000000to20180704T161412_41047&var=spectral_wave_density,mean_wave_dir,principal_wave_dir,wave_spectrum_r1,wave_spectrum_r2\n",
      "https://api.planetos.com/v1/packages/noaa_ndbc_swden_stations_20180101T000000to20180704T161412_41047?apikey=8428878e4b944abeb84790e832c633fc\n",
      "https://api.planetos.com/v1/packages/noaa_ndbc_swden_stations_20180101T000000to20180704T161412_41047/data?apikey=8428878e4b944abeb84790e832c633fc\n",
      "Please wait while package is downloaded\n",
      "Data is downloaded!\n",
      "<zipfile.ZipFile filename='noaa_ndbc_swden_stations_20180101T000000to20180704T161412_41047.zip' mode='r'>\n"
     ]
    },
    {
     "ename": "FileNotFoundError",
     "evalue": "[Errno 2] No such file or directory: '/Users/etoodu/Desktop/planetOS/git/notebooks/api-examples/node\\\\:station/'",
     "output_type": "error",
     "traceback": [
      "\u001b[0;31m---------------------------------------------------------------------------\u001b[0m",
      "\u001b[0;31mFileNotFoundError\u001b[0m                         Traceback (most recent call last)",
      "\u001b[0;32m<ipython-input-3-25ce9e4d6f54>\u001b[0m in \u001b[0;36m<module>\u001b[0;34m()\u001b[0m\n\u001b[1;32m      3\u001b[0m \u001b[0mndbc_2014_url\u001b[0m \u001b[0;34m=\u001b[0m \u001b[0;34m'http://dods.ndbc.noaa.gov/thredds/dodsC/data/swden/41047/41047w2018.nc'\u001b[0m\u001b[0;34m\u001b[0m\u001b[0m\n\u001b[1;32m      4\u001b[0m planetos_filename = download_data_station(dataset_key,API_key,'41047','2018-01-01T00:00:00',datetime.datetime.strftime(datetime.datetime.now(),'%Y-%m-%dT%H:%M:%S')\n\u001b[0;32m----> 5\u001b[0;31m ,variables,'41047')\n\u001b[0m\u001b[1;32m      6\u001b[0m \u001b[0mprint\u001b[0m \u001b[0;34m(\u001b[0m\u001b[0mplanetos_filename\u001b[0m\u001b[0;34m)\u001b[0m\u001b[0;34m\u001b[0m\u001b[0m\n\u001b[1;32m      7\u001b[0m \u001b[0;31m#planetos_tds_url = 'https://api.planetos.com/v1/datasets/noaa_ndbc_swden_stations/stations/41047?origin=dataset-details&station=46237&apikey=8428878e4b944abeb84790e832c633fc&_ga=2.215365009.721611707.1530692788-133742091.1504032768&netcdf=true'#'http://thredds.planetos.com/thredds/dodsC/dpipe//rel_0_8x03_dataset/transform/ns=/noaa_ndbc_swden_stations/scheme=/http/authority=/dods.ndbc.noaa.gov/path=/thredds/dodsC/data/swden/41047/41047w9999.nc/chunk=/1/1/data'\u001b[0m\u001b[0;34m\u001b[0m\u001b[0;34m\u001b[0m\u001b[0m\n",
      "\u001b[0;32m/Users/etoodu/Desktop/planetOS/git/notebooks/api-examples/package_api.py\u001b[0m in \u001b[0;36mdownload_data_station\u001b[0;34m(dataset_key, API_key, station_id, time_start, time_end, variable, area)\u001b[0m\n\u001b[1;32m    121\u001b[0m         \u001b[0;32melif\u001b[0m \u001b[0mget_stats\u001b[0m \u001b[0;34m==\u001b[0m \u001b[0;34m'Package downloaded'\u001b[0m\u001b[0;34m:\u001b[0m\u001b[0;34m\u001b[0m\u001b[0m\n\u001b[1;32m    122\u001b[0m             \u001b[0mprint\u001b[0m \u001b[0;34m(\u001b[0m\u001b[0;34m'Data is downloaded!'\u001b[0m\u001b[0;34m)\u001b[0m\u001b[0;34m\u001b[0m\u001b[0m\n\u001b[0;32m--> 123\u001b[0;31m             \u001b[0munzip\u001b[0m\u001b[0;34m(\u001b[0m\u001b[0mpackage_key\u001b[0m\u001b[0;34m,\u001b[0m\u001b[0mfolder\u001b[0m\u001b[0;34m)\u001b[0m\u001b[0;34m\u001b[0m\u001b[0m\n\u001b[0m\u001b[1;32m    124\u001b[0m     \u001b[0;32melse\u001b[0m\u001b[0;34m:\u001b[0m\u001b[0;34m\u001b[0m\u001b[0m\n\u001b[1;32m    125\u001b[0m         \u001b[0mprint\u001b[0m \u001b[0;34m(\u001b[0m\u001b[0;34m'file already exists, no need to download other one'\u001b[0m\u001b[0;34m)\u001b[0m\u001b[0;34m\u001b[0m\u001b[0m\n",
      "\u001b[0;32m/Users/etoodu/Desktop/planetOS/git/notebooks/api-examples/package_api.py\u001b[0m in \u001b[0;36munzip\u001b[0;34m(package_key, folder)\u001b[0m\n\u001b[1;32m     87\u001b[0m     \u001b[0mos\u001b[0m\u001b[0;34m.\u001b[0m\u001b[0mremove\u001b[0m\u001b[0;34m(\u001b[0m\u001b[0mzip_filename\u001b[0m\u001b[0;34m)\u001b[0m\u001b[0;34m\u001b[0m\u001b[0m\n\u001b[1;32m     88\u001b[0m     \u001b[0;32mif\u001b[0m \u001b[0;32mnot\u001b[0m \u001b[0mos\u001b[0m\u001b[0;34m.\u001b[0m\u001b[0mpath\u001b[0m\u001b[0;34m.\u001b[0m\u001b[0mexists\u001b[0m\u001b[0;34m(\u001b[0m\u001b[0mfolder\u001b[0m \u001b[0;34m+\u001b[0m \u001b[0;34m'/data'\u001b[0m\u001b[0;34m)\u001b[0m\u001b[0;34m:\u001b[0m\u001b[0;34m\u001b[0m\u001b[0m\n\u001b[0;32m---> 89\u001b[0;31m         \u001b[0mfiles\u001b[0m \u001b[0;34m=\u001b[0m \u001b[0mos\u001b[0m\u001b[0;34m.\u001b[0m\u001b[0mlistdir\u001b[0m\u001b[0;34m(\u001b[0m\u001b[0mfolder\u001b[0m \u001b[0;34m+\u001b[0m \u001b[0;34m'/node\\:station/'\u001b[0m\u001b[0;34m)\u001b[0m\u001b[0;34m\u001b[0m\u001b[0m\n\u001b[0m\u001b[1;32m     90\u001b[0m         \u001b[0mos\u001b[0m\u001b[0;34m.\u001b[0m\u001b[0mrename\u001b[0m\u001b[0;34m(\u001b[0m\u001b[0mfolder\u001b[0m \u001b[0;34m+\u001b[0m \u001b[0;34m'/node\\:station/'\u001b[0m \u001b[0;34m+\u001b[0m \u001b[0mfiles\u001b[0m\u001b[0;34m[\u001b[0m\u001b[0;36m0\u001b[0m\u001b[0;34m]\u001b[0m \u001b[0;34m+\u001b[0m \u001b[0;34m'/data'\u001b[0m\u001b[0;34m,\u001b[0m\u001b[0mfolder\u001b[0m \u001b[0;34m+\u001b[0m \u001b[0mpackage_key\u001b[0m \u001b[0;34m+\u001b[0m \u001b[0;34m'.nc'\u001b[0m\u001b[0;34m)\u001b[0m\u001b[0;34m\u001b[0m\u001b[0m\n\u001b[1;32m     91\u001b[0m     \u001b[0;32melse\u001b[0m\u001b[0;34m:\u001b[0m\u001b[0;34m\u001b[0m\u001b[0m\n",
      "\u001b[0;31mFileNotFoundError\u001b[0m: [Errno 2] No such file or directory: '/Users/etoodu/Desktop/planetOS/git/notebooks/api-examples/node\\\\:station/'"
     ]
    }
   ],
   "source": [
    "# OpenDAP URLs for each product\n",
    "ndbc_rt_url='http://dods.ndbc.noaa.gov/thredds/dodsC/data/swden/41047/41047w9999.nc'\n",
    "ndbc_2014_url = 'http://dods.ndbc.noaa.gov/thredds/dodsC/data/swden/41047/41047w2018.nc'\n",
    "planetos_filename = download_data_station(dataset_key,API_key,'41047','2018-01-01T00:00:00',datetime.datetime.strftime(datetime.datetime.now(),'%Y-%m-%dT%H:%M:%S')\n",
    ",variables,'41047')\n",
    "print (planetos_filename)\n",
    "#planetos_tds_url = 'https://api.planetos.com/v1/datasets/noaa_ndbc_swden_stations/stations/41047?origin=dataset-details&station=46237&apikey=8428878e4b944abeb84790e832c633fc&_ga=2.215365009.721611707.1530692788-133742091.1504032768&netcdf=true'#'http://thredds.planetos.com/thredds/dodsC/dpipe//rel_0_8x03_dataset/transform/ns=/noaa_ndbc_swden_stations/scheme=/http/authority=/dods.ndbc.noaa.gov/path=/thredds/dodsC/data/swden/41047/41047w9999.nc/chunk=/1/1/data'\n",
    "\n",
    "# acquire OpenDAP datasets\n",
    "ds_ndbc_rt = xr.open_dataset(ndbc_rt_url)\n",
    "ds_ndbc_2014 = xr.open_dataset(ndbc_2014_url)\n",
    "#ds_planetos = xr.open_dataset(planetos_tds_url)"
   ]
  },
  {
   "cell_type": "code",
   "execution_count": null,
   "metadata": {},
   "outputs": [],
   "source": [
    "# Let's focus on a specific hour of interest...\n",
    "time = '2014-08-09 00:00:00'\n",
    "\n",
    "# Select the specific hour for each dataset\n",
    "ds_ndbc_rt_hour = ds_ndbc_rt.sel(time=time).isel(latitude=0, longitude=0)\n",
    "ds_ndbc_2014_hour = ds_ndbc_2014.sel(time=time).isel(latitude=0, longitude=0)\n",
    "ds_planetos_hour = ds_planetos.sel(time=time).isel(latitude=0, longitude=0)"
   ]
  },
  {
   "cell_type": "markdown",
   "metadata": {},
   "source": [
    "## Product Inspection: Planet OS / NDBC Realtime / NDBC 2014 Historical\n",
    "For each of our three data products, we'll create an associated Dataframe for analysis."
   ]
  },
  {
   "cell_type": "code",
   "execution_count": null,
   "metadata": {},
   "outputs": [],
   "source": [
    "# First, the Planet OS data which is acquired from the NDBC realtime station file.\n",
    "df_planetos = ds_planetos_hour.to_dataframe().drop(['context_time_latitude_longitude_frequency','mx_dataset','mx_creator_institution'], axis=1)\n",
    "df_planetos.head(8)"
   ]
  },
  {
   "cell_type": "code",
   "execution_count": null,
   "metadata": {},
   "outputs": [],
   "source": [
    "# Second, the NDBC realtime station data.\n",
    "df_ndbc_rt = ds_ndbc_rt_hour.to_dataframe()\n",
    "df_ndbc_rt.head(8)"
   ]
  },
  {
   "cell_type": "code",
   "execution_count": null,
   "metadata": {},
   "outputs": [],
   "source": [
    "# Finally, the 2014 archival data.\n",
    "df_ndbc_2014 = ds_ndbc_2014_hour.to_dataframe()\n",
    "df_ndbc_2014.head(8)"
   ]
  },
  {
   "cell_type": "markdown",
   "metadata": {},
   "source": [
    "Based on the sample outputs above, it appears that **the Planet OS data matches the NDBC realtime file that it is acquired from.** We will further verify this below by performing an equality test against the two Dataframes.\n",
    "\n",
    "We can also see that **the historical data is indeed different, with frequency bins that are neatly rounded and values for wave direction and wave spectrum even when spectral wave density is 0.**\n",
    "\n",
    "Using the `describe()` method we can explore the statistical characteristics of each in more detail below. Note that the `NaN` values present in the Planet OS and NDBC realtime datasets will raise warnings for percentile calculations."
   ]
  },
  {
   "cell_type": "code",
   "execution_count": null,
   "metadata": {},
   "outputs": [],
   "source": [
    "df_planetos.describe()"
   ]
  },
  {
   "cell_type": "code",
   "execution_count": null,
   "metadata": {},
   "outputs": [],
   "source": [
    "df_ndbc_rt.describe()"
   ]
  },
  {
   "cell_type": "code",
   "execution_count": null,
   "metadata": {},
   "outputs": [],
   "source": [
    "df_ndbc_2014.describe()"
   ]
  },
  {
   "cell_type": "markdown",
   "metadata": {},
   "source": [
    "## Confirm Planet OS Equality to NDBC Realtime\n",
    "\n",
    "To confirm that the Planet OS and NDBC realtime Dataframes are indeed equal, we'll perform a diff. Note that `NaN != NaN` evaluates as True, so `NaN` values will be raised as inconsistent across the dataframes. This could be resolved using `fillna()` and an arbitrary fill value such as `-9999.99`."
   ]
  },
  {
   "cell_type": "code",
   "execution_count": null,
   "metadata": {},
   "outputs": [],
   "source": [
    "# function below requires identical index structure\n",
    "def df_diff(df1, df2):\n",
    "    ne_stacked = (df1 != df2).stack()\n",
    "    changed = ne_stacked[ne_stacked]\n",
    "    difference_locations = np.where(df1 != df2)\n",
    "    changed_from = df1.values[difference_locations]\n",
    "    changed_to = df2.values[difference_locations]\n",
    "    return pd.DataFrame({'df1': changed_from, 'df2': changed_to}, index=changed.index)\n",
    "\n",
    "# Compare the NDBC realtime to Planet OS data\n",
    "# Note that NaN != NaN evaluates as True, so NaN values will be raised as inconsistent across the dataframes\n",
    "# We could use fillna() to fix this issue, however this is not implemented here.\n",
    "df_diff(df_ndbc_rt, df_planetos)"
   ]
  },
  {
   "cell_type": "markdown",
   "metadata": {},
   "source": [
    "The `df_dff` results are as expected, only NaN values are different between the two datasets.\n",
    "\n",
    "## Spectral Wave Density Plot\n",
    "\n",
    "Let's plot the spectral wave density for all three datasets across the frequency coverage to see how they differ."
   ]
  },
  {
   "cell_type": "code",
   "execution_count": null,
   "metadata": {},
   "outputs": [],
   "source": [
    "plt.figure(figsize=(20,10))\n",
    "ds_ndbc_rt_hour.spectral_wave_density.plot(label='NDBC Realtime')\n",
    "ds_ndbc_2014_hour.spectral_wave_density.plot(label='NDBC 2014')\n",
    "ds_planetos_hour.spectral_wave_density.plot(label='Planet OS')\n",
    "plt.legend()\n",
    "plt.show()"
   ]
  },
  {
   "cell_type": "markdown",
   "metadata": {},
   "source": [
    "There is a very slight discrepancy between the 2014 NDBC product and the Planet OS product, but no difference between the realtime NDBC product and Planet OS product.\n",
    "\n",
    "## Wave Spectrum Plots"
   ]
  },
  {
   "cell_type": "code",
   "execution_count": null,
   "metadata": {},
   "outputs": [],
   "source": [
    "vars = ['wave_spectrum_r1','wave_spectrum_r2']\n",
    "df_planetos.loc[:,vars].plot(label=\"Planet OS\", figsize=(18,6))\n",
    "df_ndbc_rt.loc[:,vars].plot(label=\"NDBC Realtime\", figsize=(18,6))\n",
    "df_ndbc_2014.loc[:,vars].plot(label=\"NDBC 2014\", figsize=(18,6))\n",
    "plt.show()"
   ]
  },
  {
   "cell_type": "markdown",
   "metadata": {},
   "source": [
    "## Wave Direction Plots"
   ]
  },
  {
   "cell_type": "code",
   "execution_count": null,
   "metadata": {},
   "outputs": [],
   "source": [
    "vars = ['principal_wave_dir','mean_wave_dir']\n",
    "df_planetos.loc[:,vars].plot(label=\"Planet OS\", figsize=(18,6))\n",
    "df_ndbc_rt.loc[:,vars].plot(label=\"NDBC Realtime\", figsize=(18,6))\n",
    "df_ndbc_2014.loc[:,vars].plot(label=\"NDBC 2014\", figsize=(18,6))\n",
    "plt.show()"
   ]
  },
  {
   "cell_type": "markdown",
   "metadata": {},
   "source": [
    "## Conclusion\n",
    "\n",
    "The Planet OS [NDBC spectral wave density data product](http://data.planetos.com/datasets/noaa_ndbc_swden_stations) matches the original NDBC realtime source.\n",
    "\n",
    "It appears that NDBC is performing addition QA/QC processing on the archival data, which differ slightly from the realtime data, however attempts to locate documentation on the historical data product processing have not been successful.\n",
    "\n",
    "Planet OS does not currently overwrite historical data with the NDBC archival products, however we may consider doing so if product quality is superior for end users."
   ]
  },
  {
   "cell_type": "code",
   "execution_count": null,
   "metadata": {
    "collapsed": true
   },
   "outputs": [],
   "source": []
  }
 ],
 "metadata": {
  "kernelspec": {
   "display_name": "Python 3",
   "language": "python",
   "name": "python3"
  },
  "language_info": {
   "codemirror_mode": {
    "name": "ipython",
    "version": 3
   },
   "file_extension": ".py",
   "mimetype": "text/x-python",
   "name": "python",
   "nbconvert_exporter": "python",
   "pygments_lexer": "ipython3",
   "version": "3.6.1"
  }
 },
 "nbformat": 4,
 "nbformat_minor": 1
}
