{
 "cells": [
  {
   "cell_type": "markdown",
   "metadata": {},
   "source": [
    "# Meteorological Observations and ERA5 comparison\n",
    "\n",
    "__[Meteorological Observations From Regional Basic Synoptic Network (RBSN) ](http://data.planetos.com/datasets/noaa_rbsn_timeseries)__ is a set of meteorological observations collected by countries for the __[Global Observing System](http://www.wmo.int/pages/prog/www/OSY/GOS.html)__, which, according to WMO Resolution 40, is free to use. The same data is used by official meteorological institutions to inform public about weather, and they also form a basis of global climatological studies. Stations belonging to the network follow common guidelines for placement, which is important to assure that observations reflect actual meteorological, not microclimate, conditions. \n",
    "For current dataset, we collect raw observation data from several locations and apply our custom QA methods. Please refer to the Description section for up-to-date quality information\n",
    "\n",
    "__[ERA5](http://data.planetos.com/datasets/ecmwf_era5)__ Climate reanalysis gives a numerical description of the recent climate, produced by combining models with observations. It contains estimates of atmospheric parameters such as air temperature, pressure and wind at different altitudes, and surface parameters such as rainfall, soil moisture content, sea-surface temperature and wave height.\n",
    "ERA5 is the first reanalysis produced as an operational service and provides data at a considerably higher spatial and temporal resolution than its predecessor ERA-Interim.\n",
    "\n",
    "In this Notebook we use the Planet OS ```package API```, ```raster API``` and also ```point API```, to fetch data. We analyze RBSN and ERA5 data by using temperature data. This time we are analyzing Colorado state, but we encourade you to change the location, selection of variables, and find your own results.\n",
    "\n",
    "_API documentation is available at http://docs.planetos.com. If you have questions or comments, join the Planet OS Slack community to chat with our development team. For general information on usage of IPython/Jupyter and Matplotlib, please refer to their corresponding documentation. https://ipython.org/ and http://matplotlib.org/ _"
   ]
  },
  {
   "cell_type": "code",
   "execution_count": 1,
   "metadata": {
    "collapsed": true
   },
   "outputs": [],
   "source": [
    "%matplotlib notebook\n",
    "import numpy as np\n",
    "from dh_py_access import package_api\n",
    "import dh_py_access.lib.datahub as datahub\n",
    "import xarray as xr\n",
    "import matplotlib.pyplot as plt\n",
    "from po_data_process import get_data_from_raster_API,get_data_from_point_API\n",
    "import warnings\n",
    "from IPython.display import display, clear_output\n",
    "import pandas as pd\n",
    "import ipywidgets as widgets\n",
    "from mpl_toolkits.basemap import Basemap\n",
    "import json\n",
    "from urllib.request import urlopen\n",
    "warnings.filterwarnings(\"ignore\")"
   ]
  },
  {
   "cell_type": "markdown",
   "metadata": {},
   "source": [
    "<font color='red'>Please put your datahub API key into a file called APIKEY and place it to the notebook folder or assign your API key directly to the variable API_key!</font>"
   ]
  },
  {
   "cell_type": "code",
   "execution_count": 2,
   "metadata": {
    "collapsed": true
   },
   "outputs": [],
   "source": [
    "API_key = open('APIKEY').readlines()[0].strip() #'<YOUR API KEY HERE>'\n",
    "version = 'v1'\n",
    "server = \"api.planetos.com\"\n",
    "dh=datahub.datahub(server,version,API_key)"
   ]
  },
  {
   "cell_type": "markdown",
   "metadata": {},
   "source": [
    "At first, we need to define the dataset names and variables we want to use. This time we will use temperature variables.\n",
    "\n",
    "We also define the location where we will compare ERA5 and RBSN data. Currently, we will do analyzis on Colorado state. "
   ]
  },
  {
   "cell_type": "code",
   "execution_count": 3,
   "metadata": {
    "collapsed": true
   },
   "outputs": [],
   "source": [
    "dataset1='noaa_rbsn_timeseries'\n",
    "dataset2='ecmwf_era5'\n",
    "\n",
    "variables_rbsn = 'temperature'; \n",
    "var_era5 = '2_metre_temperature_surface'\n",
    "\n",
    "area_name = 'colorado'\n",
    "latitude_north = 41.01;latitude_south = 36.93\n",
    "longitude_west = -109.12; longitude_east = -102.02\n"
   ]
  },
  {
   "cell_type": "markdown",
   "metadata": {},
   "source": [
    "RBSN has almost 10 000 stations. Let's see how many there are in Planet OS Datahub."
   ]
  },
  {
   "cell_type": "code",
   "execution_count": 25,
   "metadata": {},
   "outputs": [
    {
     "name": "stdout",
     "output_type": "stream",
     "text": [
      "We have 9213 RBSN station data\n"
     ]
    }
   ],
   "source": [
    "stations_url = 'https://api.planetos.com/v1/datasets/{0}/stations?apikey={1}'.format(dataset1,API_key)\n",
    "station_coordinates = json.loads(urlopen(stations_url).read().decode('utf-8'))['station']\n",
    "longitude = np.asarray([station_coordinates[stat]['SpatialExtent']['coordinates'][0] for stat in station_coordinates if station_coordinates[stat]])\n",
    "latitude = np.asarray([station_coordinates[stat]['SpatialExtent']['coordinates'][1] for stat in station_coordinates if station_coordinates[stat]])\n",
    "print ('We have ' + str(len(station_coordinates)) + ' RBSN station data')"
   ]
  },
  {
   "cell_type": "markdown",
   "metadata": {},
   "source": [
    "Now we will put those stations on to the map. We can see that in the Europe there is the most stations, however, all the other continents are covered pretty well. "
   ]
  },
  {
   "cell_type": "code",
   "execution_count": null,
   "metadata": {},
   "outputs": [],
   "source": [
    "m = Basemap(projection='mill',lon_0=0)\n",
    "#lons,lats = np.meshgrid(longitude,latitude)\n",
    "lonmap,latmap = m(longitude,latitude)\n",
    "fig=plt.figure(figsize=(10,8))\n",
    "m.drawcoastlines()\n",
    "m.drawcountries()\n",
    "m.scatter(lonmap,latmap,5,marker='o')\n",
    "plt.show()"
   ]
  },
  {
   "cell_type": "markdown",
   "metadata": {},
   "source": [
    "Now we will choose ```analysis_time``` for the one time coparison. So, we will find out how data matches 2017-12-24 midnight. For that, at first we will get the RBSN data using raster API. "
   ]
  },
  {
   "cell_type": "code",
   "execution_count": null,
   "metadata": {
    "collapsed": true
   },
   "outputs": [],
   "source": [
    "analysis_time = '2017-12-24T00:00:00'\n",
    "data_pd = get_data_from_raster_API(dataset1, longitude_west, latitude_south, longitude_east, latitude_north, \n",
    "                                   API_key,time_start = '2017-10-24T00:00:00', time_end='2017-12-31T00:00:00',\n",
    "                                   var=variables_rbsn +',station_name')\n",
    "station_data_specific_time = data_pd[data_pd['time'] == analysis_time]"
   ]
  },
  {
   "cell_type": "markdown",
   "metadata": {},
   "source": [
    "For getting ERA5 data, we decided to use package API as it will be much faster when data volume gets higher.\n",
    "\n",
    "So, at first let's create package object, create package itself and download it."
   ]
  },
  {
   "cell_type": "code",
   "execution_count": null,
   "metadata": {},
   "outputs": [],
   "source": [
    "package = package_api.package_api(dh,dataset2,var_era5,longitude_west,longitude_east,latitude_south,latitude_north,time_start=analysis_time,time_end=analysis_time,area_name=area_name)\n",
    "package.make_package()\n",
    "package.download_package()"
   ]
  },
  {
   "cell_type": "markdown",
   "metadata": {},
   "source": [
    "When package is downloaded, we use xarray for reading a file. Note that we will make some conversions for comparing with RBSN as well. First, longitude values were in 0 to 360 grid, but we want to have them in -180 to 180. And we will also convert temperature from Kelvins to Celsius."
   ]
  },
  {
   "cell_type": "code",
   "execution_count": null,
   "metadata": {
    "collapsed": true
   },
   "outputs": [],
   "source": [
    "dd1 = xr.open_dataset(package.local_file_name)\n",
    "dd1['lon'] = ((dd1.lon+180) % 360) - 180\n",
    "dd1['temp_celsius'] = dd1['2_metre_temperature_surface'] - 273.15"
   ]
  },
  {
   "cell_type": "markdown",
   "metadata": {},
   "source": [
    "Now, data is read in. Let's plot it down to see differences. For plotting, at first we will define minimum and maximum values, because we want to have same colorscales for both datasets. And then we will use matplotlib pcolormesh(ERA5) and scatter(RBSN). \n",
    "\n",
    "On the plot, we can see temperature[C] data over Colorado state. There are five RBSN stations. ERA5 data shows quite good match with observational data. In all five locations RBSN and ERA5 data is very similar. "
   ]
  },
  {
   "cell_type": "code",
   "execution_count": null,
   "metadata": {},
   "outputs": [],
   "source": [
    "vmin = dd1.variables['temp_celsius'].min() ; vmax = dd1.variables['temp_celsius'].max()\n",
    "fig=plt.figure()\n",
    "plt1 = plt.pcolormesh(dd1.lon,dd1.lat,dd1.variables['temp_celsius'][0,:,:], vmin = vmin, vmax = vmax)\n",
    "plt2 = plt.scatter(station_data_specific_time['lon'],station_data_specific_time['lat'],c = station_data_specific_time['temperature'], vmin = vmin, vmax = vmax,edgecolors='black')\n",
    "plt.colorbar(plt1)\n",
    "plt.show()"
   ]
  },
  {
   "cell_type": "markdown",
   "metadata": {},
   "source": [
    "As we saw on the plot above, there is five RBSN stations in Colorado state. Let's make dropdown from which to choose the sation for the timeseries comparison. "
   ]
  },
  {
   "cell_type": "code",
   "execution_count": null,
   "metadata": {
    "scrolled": true
   },
   "outputs": [],
   "source": [
    "## Download data for ERA5 for station locations\n",
    "time_start = '2017-10-24T00:00:00'; time_end='2017-12-31T00:00:00'\n",
    "droplist0 = list(np.unique(data_pd.station_name))\n",
    "stations = {i:data_pd[data_pd['station_name'] == i].iloc[0] for i in droplist0}\n",
    "era5_pd = {k:get_data_from_point_API(dataset2, stations[k].longitude, stations[k].latitude, API_key,time_start = time_start,time_end = time_end, var=var_era5) for k in droplist0}\n",
    "for k in era5_pd:\n",
    "    era5_pd[k]['date'] = pd.to_datetime(era5_pd[k]['time'])\n",
    "    era5_pd[k]['temp'] = era5_pd[k]['2_metre_temperature_surface']- 273.15"
   ]
  },
  {
   "cell_type": "code",
   "execution_count": null,
   "metadata": {
    "scrolled": false
   },
   "outputs": [],
   "source": [
    "def compare_data(time1, data1, label1, time2, data2, label2, station):\n",
    "    fig=plt.figure(figsize=(10, 5))\n",
    "    plt.plot(time1, data1, label = label1)\n",
    "    plt.plot(time2, data2, label = label2)\n",
    "    plt.legend()\n",
    "    plt.title(station)\n",
    "    fig.autofmt_xdate()\n",
    "    plt.grid()\n",
    "    plt.show()\n",
    "\n",
    "def print_statistics(data1, data2):\n",
    "    pdict = {}\n",
    "    for ddd in data1, data2:\n",
    "        pdict[ddd[0]] = {\"Mean\" : np.mean(ddd[1]), \n",
    "                         \"Stdev\" : np.std(ddd[1]), \n",
    "                         \"Max\" : np.amax(ddd[1]), \n",
    "                        \"Min\" : np.amin(ddd[1])}\n",
    "    print(pd.DataFrame(pdict))\n",
    "\n",
    "    \n",
    "selecter0 = widgets.Dropdown(\n",
    "        options=droplist0,\n",
    "        value=droplist0[0],\n",
    "        description='Select station:',\n",
    "        disabled=False,\n",
    "        button_style=''\n",
    "    )\n",
    "\n",
    "def make_compare_plot(sender):\n",
    "    clear_output()\n",
    "    station = selecter0.value \n",
    "    station_data = data_pd[data_pd.station_name == station]\n",
    "    station_data['date'] = pd.to_datetime(station_data['time'])\n",
    "    ## era5_pd = get_data_from_point_API(dataset2, str(station_data.lon.values[0]), str(station_data.lat.values[0]), API_key,time_start = time_start,time_end = time_end, var=var_era5)\n",
    "\n",
    "    compare_data(station_data.date,\n",
    "                 station_data.temperature,\n",
    "                 dataset1,\n",
    "                 era5_pd[station].date,\n",
    "                 era5_pd[station]['temp'],\n",
    "                 dataset2,\n",
    "                 station)\n",
    "    print_statistics(('ERA5',era5_pd[station]['temp']), ('Station',station_data.temperature))\n",
    "    display(selecter0)\n",
    "    \n",
    "selecter0.observe(make_compare_plot, names='value')\n",
    "display(selecter0)"
   ]
  },
  {
   "cell_type": "code",
   "execution_count": null,
   "metadata": {
    "collapsed": true
   },
   "outputs": [],
   "source": []
  },
  {
   "cell_type": "code",
   "execution_count": null,
   "metadata": {
    "collapsed": true
   },
   "outputs": [],
   "source": []
  }
 ],
 "metadata": {
  "kernelspec": {
   "display_name": "Python 3",
   "language": "python",
   "name": "python3"
  },
  "language_info": {
   "codemirror_mode": {
    "name": "ipython",
    "version": 3
   },
   "file_extension": ".py",
   "mimetype": "text/x-python",
   "name": "python",
   "nbconvert_exporter": "python",
   "pygments_lexer": "ipython3",
   "version": "3.6.1"
  },
  "widgets": {
   "application/vnd.jupyter.widget-state+json": {
    "state": {
     "1ecb4529d4b8435d833018a620bb1390": {
      "model_module": "jupyter-js-widgets",
      "model_module_version": "~2.1.4",
      "model_name": "LayoutModel",
      "state": {
       "_model_module_version": "~2.1.4",
       "_view_module_version": "~2.1.4"
      }
     },
     "1f84508ac794421c808bbb972665a554": {
      "model_module": "jupyter-js-widgets",
      "model_module_version": "~2.1.4",
      "model_name": "DropdownModel",
      "state": {
       "_model_module_version": "~2.1.4",
       "_options_labels": [
        "ALAMOSA  CO.",
        "CRAIG/CRAIG-MOFFAT A.  CO.",
        "DENVER INTERNATIONAL AIRPORT  CO",
        "GRAND JUNCTION/WALKER FIELD  CO.",
        "PUEBLO/MEMORIAL  CO."
       ],
       "_view_module_version": "~2.1.4",
       "description": "Select station:",
       "layout": "IPY_MODEL_70e05b85cf454d7b8889a78130971523",
       "value": "CRAIG/CRAIG-MOFFAT A.  CO."
      }
     },
     "70e05b85cf454d7b8889a78130971523": {
      "model_module": "jupyter-js-widgets",
      "model_module_version": "~2.1.4",
      "model_name": "LayoutModel",
      "state": {
       "_model_module_version": "~2.1.4",
       "_view_module_version": "~2.1.4"
      }
     },
     "88c1ab35d7b9404abc65dd8848068932": {
      "model_module": "jupyter-js-widgets",
      "model_module_version": "~2.1.4",
      "model_name": "DropdownModel",
      "state": {
       "_model_module_version": "~2.1.4",
       "_options_labels": [
        "ALAMOSA  CO.",
        "CRAIG/CRAIG-MOFFAT A.  CO.",
        "DENVER INTERNATIONAL AIRPORT  CO",
        "GRAND JUNCTION/WALKER FIELD  CO.",
        "PUEBLO/MEMORIAL  CO."
       ],
       "_view_module_version": "~2.1.4",
       "description": "Select station:",
       "layout": "IPY_MODEL_afe398040ef5453c8c6cedd1b96bf6b7",
       "value": "GRAND JUNCTION/WALKER FIELD  CO."
      }
     },
     "afe398040ef5453c8c6cedd1b96bf6b7": {
      "model_module": "jupyter-js-widgets",
      "model_module_version": "~2.1.4",
      "model_name": "LayoutModel",
      "state": {
       "_model_module_version": "~2.1.4",
       "_view_module_version": "~2.1.4"
      }
     },
     "e5181bc73ba94d05a8424d766705aa1a": {
      "model_module": "jupyter-js-widgets",
      "model_module_version": "~2.1.4",
      "model_name": "DropdownModel",
      "state": {
       "_model_module_version": "~2.1.4",
       "_options_labels": [
        "ALAMOSA  CO.",
        "CRAIG/CRAIG-MOFFAT A.  CO.",
        "DENVER INTERNATIONAL AIRPORT  CO",
        "GRAND JUNCTION/WALKER FIELD  CO.",
        "PUEBLO/MEMORIAL  CO."
       ],
       "_view_module_version": "~2.1.4",
       "description": "Select station:",
       "layout": "IPY_MODEL_1ecb4529d4b8435d833018a620bb1390",
       "value": "ALAMOSA  CO."
      }
     }
    },
    "version_major": 1,
    "version_minor": 0
   }
  }
 },
 "nbformat": 4,
 "nbformat_minor": 2
}
