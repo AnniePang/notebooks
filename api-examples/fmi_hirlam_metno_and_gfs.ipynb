{
 "cells": [
  {
   "cell_type": "markdown",
   "metadata": {},
   "source": [
    "# FMI Hirlam, MET Norway HARMONIE and NCEP GFS comparison demo\n",
    "\n",
    "In this demo notebook we provide short comparison of using three different weather forecast models:\n",
    "GFS -- http://data.planetos.com/datasets/noaa_gfs_pgrb2_global_forecast_recompute_0.25degree\n",
    "HIRLAM -- http://data.planetos.com/datasets/fmi_hirlam_surface\n",
    "HARMONIE -- http://data.planetos.com/datasets/metno_harmonie_metcoop\n",
    "\n",
    "You can get more information about the datasets by opening links to their detail pages, but their main difference is that GFS is a global, medium range weather forecast model with lower resolution, and HIRLAM and HARMONIE are limited area models, meaning they cover only small part of the globe, but provide higher resolution of all forecasted field, in return.\n",
    "\n",
    "First we compare the datasets by showing their spatial coverages, then we demonstrate their resolutions by showing forecast field as a discrete grid (so one can see the difference in grid cell size and resolved surface details) and finally we demonstrate plotting weather forecast for the same variable from three models. \n",
    "\n",
    "We try to keep this demo short, but in case you are interested in creating a more interactive notebook, please refer to our other examples:\n",
    "https://github.com/planet-os/demos/blob/master/notebooks/PlanetOS_WAve_Models.ipynb\n",
    "https://github.com/planet-os/notebooks/blob/master/api-examples/GFS_public_full_demo_main.ipynb\n",
    "\n",
    "Unlike previous notebooks, we have moved most of the parsing code to external library dh_py_access, which you should get automatically if you get this notebook by cloning the git repository. \n",
    "\n",
    "If you have any questions, contact our team at https://data.planetos.com"
   ]
  },
  {
   "cell_type": "markdown",
   "metadata": {},
   "source": [
    "At first, let's import some modules. If you do not have them, download them (ie. using pip or conda)."
   ]
  },
  {
   "cell_type": "code",
   "execution_count": 1,
   "metadata": {},
   "outputs": [],
   "source": [
    "%matplotlib notebook\n",
    "import numpy as np\n",
    "import matplotlib.pyplot as plt\n",
    "from mpl_toolkits.basemap import Basemap\n",
    "import warnings\n",
    "import dateutil.parser\n",
    "import matplotlib\n",
    "warnings.filterwarnings(\"ignore\",category=matplotlib.cbook.mplDeprecation)\n",
    "import xarray as xr"
   ]
  },
  {
   "cell_type": "markdown",
   "metadata": {},
   "source": [
    "Import datahub parsing library"
   ]
  },
  {
   "cell_type": "code",
   "execution_count": 2,
   "metadata": {},
   "outputs": [],
   "source": [
    "from dh_py_access.lib.dataset import dataset as dataset\n",
    "import dh_py_access.lib.datahub as datahub\n",
    "from dh_py_access import package_api"
   ]
  },
  {
   "cell_type": "markdown",
   "metadata": {},
   "source": [
    "Now we define hirlam and harmonie namespaces. Add server address and our API key. \n",
    "<font color='red'>Please add your API key below:</font>"
   ]
  },
  {
   "cell_type": "code",
   "execution_count": 3,
   "metadata": {},
   "outputs": [
    {
     "name": "stdout",
     "output_type": "stream",
     "text": [
      "804e22da0c704d7b955a3d250750bc2b\n"
     ]
    }
   ],
   "source": [
    "server = 'http://api.planetos.com/v1/datasets/'\n",
    "API_key = open('APIKEY').read().strip()\n",
    "print(API_key)"
   ]
  },
  {
   "cell_type": "code",
   "execution_count": 4,
   "metadata": {},
   "outputs": [],
   "source": [
    "dh=datahub.datahub_main(API_key)\n",
    "fmi_hirlam_surface=dataset('fmi_hirlam_surface',dh)\n",
    "metno_harmonie_metcoop=dataset('metno_harmonie_metcoop',dh)\n",
    "gfs=dataset('noaa_gfs_pgrb2_global_forecast_recompute_0.25degree',dh)"
   ]
  },
  {
   "cell_type": "markdown",
   "metadata": {},
   "source": [
    "One can easily see what kind of variables are available in given dataset by just calling methods:\n",
    "\n",
    "1. long_names -- gives a long human readable name for variable, which is unfortunately not standardised in any way\n",
    "2. standard_names -- gives variable names as defined in CF convention standard name table http://cfconventions.org/standard-names.html\n",
    "3. variable_names -- names by which you can actually query data from the API\n",
    "\n",
    "on a given dataset instance."
   ]
  },
  {
   "cell_type": "code",
   "execution_count": 5,
   "metadata": {},
   "outputs": [],
   "source": [
    "sample_var_names = {fmi_hirlam_surface:'Temperature_height_above_ground',\n",
    "                    metno_harmonie_metcoop:'air_temperature_2m',\n",
    "                    gfs:'tmp_m'}"
   ]
  },
  {
   "cell_type": "code",
   "execution_count": 18,
   "metadata": {},
   "outputs": [
    {
     "data": {
      "text/plain": [
       "[[[[-31.612393352985407, 25.647659301757812],\n",
       "   [-31.612393352985407, 25.627549266815187],\n",
       "   [-36.632966306209596, 25.627549266815187],\n",
       "   [-36.632966306209596, 25.647659301757812],\n",
       "   [-135.02635192871097, 25.647659301757812],\n",
       "   [-135.02635192871097, 85.95765409469604],\n",
       "   [-135.07557323217392, 85.95765409469604],\n",
       "   [-135.07557323217392, 90],\n",
       "   [180, 90],\n",
       "   [180, 87.96865758895872],\n",
       "   [179.989990234375, 87.96865758895872],\n",
       "   [179.989990234375, 25.647659301757812],\n",
       "   [42.21956184148786, 25.647659301757812],\n",
       "   [42.21956184148786, 25.627549266815187],\n",
       "   [32.27685854196545, 25.627549266815187],\n",
       "   [32.27685854196545, 25.647659301757812],\n",
       "   [-31.612393352985407, 25.647659301757812]]],\n",
       " [[[-180, 90],\n",
       "   [-179.960788462162, 90],\n",
       "   [-179.960788462162, 87.96865758895872],\n",
       "   [-180, 87.96865758895872],\n",
       "   [-180, 90]]]]"
      ]
     },
     "execution_count": 18,
     "metadata": {},
     "output_type": "execute_result"
    }
   ],
   "source": [
    "fmi_hirlam_surface.get_dataset_boundaries()['coordinates']"
   ]
  },
  {
   "cell_type": "code",
   "execution_count": 19,
   "metadata": {},
   "outputs": [
    {
     "data": {
      "text/plain": [
       "[[[31.2984296875, 52.1929765625],\n",
       "  [20.9757890625, 52.1929765625],\n",
       "  [20.9757890625, 52.8953203125],\n",
       "  [8.817179687500001, 52.8953203125],\n",
       "  [8.817179687500001, 52.1929765625],\n",
       "  [-0.5687421874999992, 52.1929765625],\n",
       "  [-0.5687421874999992, 54.3000078125],\n",
       "  [-1.5054609375, 54.3000078125],\n",
       "  [-1.5054609375, 56.407039062500004],\n",
       "  [-2.442179687500001, 56.407039062500004],\n",
       "  [-2.442179687500001, 58.5140703125],\n",
       "  [-3.3788984374999997, 58.5140703125],\n",
       "  [-3.3788984374999997, 59.918757812500004],\n",
       "  [-4.3156171875, 59.918757812500004],\n",
       "  [-4.3156171875, 61.32344531249999],\n",
       "  [-5.2523359375, 61.32344531249999],\n",
       "  [-5.2523359375, 62.72813281250001],\n",
       "  [-6.1890546875, 62.72813281250001],\n",
       "  [-6.1890546875, 64.13282031250002],\n",
       "  [-7.1257734375, 64.13282031250002],\n",
       "  [-7.1257734375, 65.53750781250001],\n",
       "  [-8.062492187500002, 65.53750781250001],\n",
       "  [-8.062492187500002, 66.23985156250001],\n",
       "  [-8.999210937500001, 66.23985156250001],\n",
       "  [-8.999210937500001, 66.94219531250002],\n",
       "  [-9.9359296875, 66.94219531250002],\n",
       "  [-9.9359296875, 68.34688281250001],\n",
       "  [-10.8726484375, 68.34688281250001],\n",
       "  [-10.8726484375, 69.04922656250001],\n",
       "  [-11.809367187500001, 69.04922656250001],\n",
       "  [-11.809367187500001, 72.5749921875],\n",
       "  [-8.999210937500001, 72.5749921875],\n",
       "  [-8.999210937500001, 73.2773359375],\n",
       "  [-1.5054609375, 73.2773359375],\n",
       "  [-1.5054609375, 73.97967968750001],\n",
       "  [31.2984296875, 73.97967968750001],\n",
       "  [31.2984296875, 73.2773359375],\n",
       "  [38.7921796875, 73.2773359375],\n",
       "  [38.7921796875, 72.5749921875],\n",
       "  [44.41249218749999, 72.5749921875],\n",
       "  [44.41249218749999, 71.8726484375],\n",
       "  [48.1593671875, 71.8726484375],\n",
       "  [48.1593671875, 69.75157031250001],\n",
       "  [47.222648437499984, 69.75157031250001],\n",
       "  [47.222648437499984, 69.04922656250001],\n",
       "  [46.285929687499994, 69.04922656250001],\n",
       "  [46.285929687499994, 68.34688281250001],\n",
       "  [45.3492109375, 68.34688281250001],\n",
       "  [45.3492109375, 67.64453906250002],\n",
       "  [44.41249218749999, 67.64453906250002],\n",
       "  [44.41249218749999, 66.94219531250002],\n",
       "  [43.4757734375, 66.94219531250002],\n",
       "  [43.4757734375, 66.23985156250001],\n",
       "  [42.539054687499984, 66.23985156250001],\n",
       "  [42.539054687499984, 65.53750781250001],\n",
       "  [41.602335937499994, 65.53750781250001],\n",
       "  [41.602335937499994, 64.83516406250001],\n",
       "  [40.6656171875, 64.83516406250001],\n",
       "  [40.6656171875, 64.13282031250002],\n",
       "  [39.7288984375, 64.13282031250002],\n",
       "  [39.7288984375, 62.72813281250001],\n",
       "  [38.7921796875, 62.72813281250001],\n",
       "  [38.7921796875, 61.32344531249999],\n",
       "  [37.85546093749999, 61.32344531249999],\n",
       "  [37.85546093749999, 60.621101562499994],\n",
       "  [36.918742187499994, 60.621101562499994],\n",
       "  [36.918742187499994, 59.21641406249999],\n",
       "  [35.9820234375, 59.21641406249999],\n",
       "  [35.9820234375, 57.811726562500006],\n",
       "  [35.0453046875, 57.811726562500006],\n",
       "  [35.0453046875, 55.7046953125],\n",
       "  [34.1085859375, 55.7046953125],\n",
       "  [34.1085859375, 54.3000078125],\n",
       "  [33.17186718749999, 54.3000078125],\n",
       "  [33.17186718749999, 52.1929765625],\n",
       "  [31.2984296875, 52.1929765625]]]"
      ]
     },
     "execution_count": 19,
     "metadata": {},
     "output_type": "execute_result"
    }
   ],
   "source": [
    "metno_harmonie_metcoop.get_dataset_boundaries()['coordinates']"
   ]
  },
  {
   "cell_type": "code",
   "execution_count": 14,
   "metadata": {},
   "outputs": [],
   "source": [
    "def get_max_coverage_package(dataset, area_name, varfilter = 'temp'):\n",
    "    coords = dataset.get_dataset_boundaries()['coordinates']\n",
    "    ds_west = np.amin([i[0] for i in coords[0]])\n",
    "    ds_east = np.amax([i[0] for i in coords[0]])\n",
    "    ds_south = np.amin([i[1] for i in coords[0]])\n",
    "    ds_north = np.amax([i[1] for i in coords[0]])\n",
    "    print(\"Bounds test: \", dataset.datasetkey, ds_west, ds_east, ds_south, ds_north)\n",
    "    ## temperature_variable = [i for i in dataset.variable_names() if varfilter in i.lower()][0]\n",
    "    temperature_variable = sample_var_names[dataset]\n",
    "    assert len(temperature_variable) >= 1, \"something wrong {0}\".format(temperature_variable)\n",
    "    assert type(temperature_variable) == str\n",
    "    return package_api.package_api(dh,dataset.datasetkey,temperature_variable,ds_west,ds_east,ds_south,ds_north,area_name=area_name)"
   ]
  },
  {
   "cell_type": "code",
   "execution_count": 15,
   "metadata": {},
   "outputs": [],
   "source": [
    "area_name = 'maximum_03'"
   ]
  },
  {
   "cell_type": "code",
   "execution_count": 16,
   "metadata": {},
   "outputs": [
    {
     "name": "stdout",
     "output_type": "stream",
     "text": [
      "Bounds test:  metno_harmonie_metcoop -11.809367187500001 48.1593671875 52.1929765625 73.97967968750001\n",
      "Bounds test:  fmi_hirlam_surface -31.612393352985407 25.647659301757812 -31.612393352985407 25.627549266815187\n"
     ]
    }
   ],
   "source": [
    "package_harmonie = get_max_coverage_package(metno_harmonie_metcoop, area_name=area_name)\n",
    "package_fmi_hirlam = get_max_coverage_package(fmi_hirlam_surface, area_name=area_name)"
   ]
  },
  {
   "cell_type": "code",
   "execution_count": 12,
   "metadata": {},
   "outputs": [
    {
     "name": "stdout",
     "output_type": "stream",
     "text": [
      "Package request: http://api.planetos.com/v1/packages?apikey=804e22da0c704d7b955a3d250750bc2b&dataset=metno_harmonie_metcoop&polygon=[[-11.809367187500001,52.1929765625],[48.1593671875,52.1929765625],[48.1593671875,73.97967968750001],[-11.809367187500001,73.97967968750001],[-11.809367187500001,52.1929765625]]&grouping=location&package=metno_harmonie_metcoop_recent_reftime_20180118_maximum_03&var=air_temperature_2m\n",
      "Package request: http://api.planetos.com/v1/packages?apikey=804e22da0c704d7b955a3d250750bc2b&dataset=fmi_hirlam_surface&polygon=[[-31.612393352985407,-31.612393352985407],[25.647659301757812,-31.612393352985407],[25.647659301757812,25.627549266815187],[-31.612393352985407,25.627549266815187],[-31.612393352985407,-31.612393352985407]]&grouping=location&package=fmi_hirlam_surface_recent_reftime_20180118_maximum_03&var=Temperature_height_above_ground\n"
     ]
    }
   ],
   "source": [
    "package_harmonie.make_package()\n",
    "package_fmi_hirlam.make_package()"
   ]
  },
  {
   "cell_type": "code",
   "execution_count": 13,
   "metadata": {},
   "outputs": [
    {
     "ename": "ValueError",
     "evalue": "Package creation failed",
     "output_type": "error",
     "traceback": [
      "\u001b[0;31m---------------------------------------------------------------------------\u001b[0m",
      "\u001b[0;31mValueError\u001b[0m                                Traceback (most recent call last)",
      "\u001b[0;32m<ipython-input-13-02aedce426fd>\u001b[0m in \u001b[0;36m<module>\u001b[0;34m()\u001b[0m\n\u001b[1;32m      1\u001b[0m \u001b[0mpackage_harmonie\u001b[0m\u001b[0;34m.\u001b[0m\u001b[0mdownload_package\u001b[0m\u001b[0;34m(\u001b[0m\u001b[0;34m)\u001b[0m\u001b[0;34m\u001b[0m\u001b[0m\n\u001b[0;32m----> 2\u001b[0;31m \u001b[0mpackage_fmi_hirlam\u001b[0m\u001b[0;34m.\u001b[0m\u001b[0mdownload_package\u001b[0m\u001b[0;34m(\u001b[0m\u001b[0;34m)\u001b[0m\u001b[0;34m\u001b[0m\u001b[0m\n\u001b[0m",
      "\u001b[0;32m~/Desktop/Dropbox/ANDRES/proj/notebooks/api-examples/dh_py_access/package_api.py\u001b[0m in \u001b[0;36mdownload_package\u001b[0;34m(self)\u001b[0m\n\u001b[1;32m    116\u001b[0m             \u001b[0mprint\u001b[0m\u001b[0;34m(\u001b[0m\u001b[0;34m\"File already downloaded\"\u001b[0m\u001b[0;34m)\u001b[0m\u001b[0;34m\u001b[0m\u001b[0m\n\u001b[1;32m    117\u001b[0m             \u001b[0;32mreturn\u001b[0m\u001b[0;34m\u001b[0m\u001b[0m\n\u001b[0;32m--> 118\u001b[0;31m         \u001b[0;32mif\u001b[0m \u001b[0mself\u001b[0m\u001b[0;34m.\u001b[0m\u001b[0mwait_for_package_completion\u001b[0m\u001b[0;34m(\u001b[0m\u001b[0;34m)\u001b[0m\u001b[0;34m:\u001b[0m\u001b[0;34m\u001b[0m\u001b[0m\n\u001b[0m\u001b[1;32m    119\u001b[0m             \u001b[0mr\u001b[0m \u001b[0;34m=\u001b[0m \u001b[0mrequests\u001b[0m\u001b[0;34m.\u001b[0m\u001b[0mget\u001b[0m\u001b[0;34m(\u001b[0m\u001b[0mself\u001b[0m\u001b[0;34m.\u001b[0m\u001b[0mget_download_path\u001b[0m\u001b[0;34m(\u001b[0m\u001b[0;34m)\u001b[0m\u001b[0;34m,\u001b[0m\u001b[0mstream\u001b[0m \u001b[0;34m=\u001b[0m \u001b[0;32mTrue\u001b[0m\u001b[0;34m)\u001b[0m\u001b[0;34m\u001b[0m\u001b[0m\n\u001b[1;32m    120\u001b[0m             \u001b[0;32mif\u001b[0m \u001b[0mr\u001b[0m\u001b[0;34m.\u001b[0m\u001b[0mstatus_code\u001b[0m \u001b[0;34m==\u001b[0m \u001b[0;36m200\u001b[0m\u001b[0;34m:\u001b[0m\u001b[0;34m\u001b[0m\u001b[0m\n",
      "\u001b[0;32m~/Desktop/Dropbox/ANDRES/proj/notebooks/api-examples/dh_py_access/package_api.py\u001b[0m in \u001b[0;36mwait_for_package_completion\u001b[0;34m(self, maxtime)\u001b[0m\n\u001b[1;32m    105\u001b[0m                 \u001b[0mtime\u001b[0m\u001b[0;34m.\u001b[0m\u001b[0msleep\u001b[0m\u001b[0;34m(\u001b[0m\u001b[0mcheck_time\u001b[0m\u001b[0;34m)\u001b[0m\u001b[0;34m\u001b[0m\u001b[0m\n\u001b[1;32m    106\u001b[0m             \u001b[0;32melse\u001b[0m\u001b[0;34m:\u001b[0m\u001b[0;34m\u001b[0m\u001b[0m\n\u001b[0;32m--> 107\u001b[0;31m                 \u001b[0;32mraise\u001b[0m \u001b[0mValueError\u001b[0m\u001b[0;34m(\u001b[0m\u001b[0;34m'Package creation failed'\u001b[0m\u001b[0;34m)\u001b[0m\u001b[0;34m\u001b[0m\u001b[0m\n\u001b[0m\u001b[1;32m    108\u001b[0m             \u001b[0mcount\u001b[0m \u001b[0;34m+=\u001b[0m \u001b[0;36m1\u001b[0m\u001b[0;34m\u001b[0m\u001b[0m\n\u001b[1;32m    109\u001b[0m         \u001b[0;32mreturn\u001b[0m \u001b[0;32mFalse\u001b[0m\u001b[0;34m\u001b[0m\u001b[0m\n",
      "\u001b[0;31mValueError\u001b[0m: Package creation failed"
     ]
    }
   ],
   "source": [
    "package_harmonie.download_package()\n",
    "package_fmi_hirlam.download_package()"
   ]
  },
  {
   "cell_type": "code",
   "execution_count": null,
   "metadata": {},
   "outputs": [],
   "source": [
    "data_harmonie = xr.open_dataset(package_harmonie.get_local_file_name())\n",
    "data_fmi_hirlam = xr.open_dataset(package_fmi_hirlam.get_local_file_name(),decode_cf=False)"
   ]
  },
  {
   "cell_type": "markdown",
   "metadata": {},
   "source": [
    "Take GFS for area of HARMONIE"
   ]
  },
  {
   "cell_type": "code",
   "execution_count": null,
   "metadata": {},
   "outputs": [],
   "source": [
    "np.amin(data_harmonie['lon'].data)"
   ]
  },
  {
   "cell_type": "code",
   "execution_count": null,
   "metadata": {},
   "outputs": [],
   "source": [
    "left = np.amin(data_harmonie['lon'].data)\n",
    "right = np.amax(data_harmonie['lon'].data)\n",
    "bottom = np.amin(data_harmonie['lat'].data)\n",
    "top = np.amax(data_harmonie['lat'].data)\n",
    "\n",
    "gfs_temperature_var = [i for i in gfs.variable_names() if 'temp' in i.lower()][0]\n",
    "package_gfs = package_api.package_api(dh,gfs.datasetkey,gfs_temperature_var,left,right,bottom,top,area_name=area_name)\n",
    "package_gfs.make_package()\n",
    "package_gfs.download_package()"
   ]
  },
  {
   "cell_type": "code",
   "execution_count": null,
   "metadata": {},
   "outputs": [],
   "source": [
    "data_gfs = xr.open_dataset(package_gfs.get_local_file_name(),decode_cf=False)"
   ]
  },
  {
   "cell_type": "code",
   "execution_count": null,
   "metadata": {},
   "outputs": [],
   "source": [
    "[i for i in data_gfs.variables]"
   ]
  },
  {
   "cell_type": "code",
   "execution_count": null,
   "metadata": {},
   "outputs": [],
   "source": [
    "plt.pcolormesh(data_harmonie['air_temperature_2m'][0,0,:,:])"
   ]
  },
  {
   "cell_type": "code",
   "execution_count": null,
   "metadata": {},
   "outputs": [],
   "source": [
    "data_gfs.variables"
   ]
  },
  {
   "cell_type": "markdown",
   "metadata": {},
   "source": [
    "## Dataset extent and resolution"
   ]
  },
  {
   "cell_type": "markdown",
   "metadata": {},
   "source": [
    "Get some arbitrary field for demonstration, we use 2m temperature and as you can see, variable names may actually differ a lot between datasets. Please note that \"get_tds_field\" method is just for getting arbitrary preview image, if you wan't to query data for specific time and reftime, please refer to examples for our raster API (shown in other notebooks referenced to above) or use THREDDS server link given in dataset detail pages."
   ]
  },
  {
   "cell_type": "code",
   "execution_count": null,
   "metadata": {
    "scrolled": true
   },
   "outputs": [],
   "source": [
    "\n",
    "\n",
    "hirdat=fmi_hirlam_surface.get_tds_field(sample_var_names[fmi_hirlam_surface])\n",
    "harmoniedat=metno_harmonie_metcoop.get_tds_field(sample_var_names[metno_harmonie_metcoop])\n",
    "harmoniedat=np.ma.masked_where(np.isnan(harmoniedat),harmoniedat)\n",
    "gfsdat=gfs.get_tds_field(sample_var_names[gfs])"
   ]
  },
  {
   "cell_type": "markdown",
   "metadata": {},
   "source": [
    "### Extent\n",
    "The easiest way to show dataset extent is to plot it on a map with proper projection. We do not show GFS here, because, well, it is global."
   ]
  },
  {
   "cell_type": "code",
   "execution_count": null,
   "metadata": {},
   "outputs": [],
   "source": [
    "m = Basemap(projection='ortho',lon_0=10,lat_0=50,resolution='l')\n",
    "hir_x,hir_y=np.meshgrid(fmi_hirlam_surface.get_tds_field('lon'),fmi_hirlam_surface.get_tds_field('lat'))\n",
    "X,Y=m(hir_x,hir_y)\n",
    "fig=plt.figure()\n",
    "plt.subplot(221)\n",
    "m.pcolormesh(X,Y,hirdat)\n",
    "m.drawcoastlines()\n",
    "plt.subplot(222)\n",
    "harm_x,harm_y=np.meshgrid(metno_harmonie_metcoop.get_tds_field('lon'),metno_harmonie_metcoop.get_tds_field('lat'))\n",
    "X,Y=m(harm_x,harm_y)\n",
    "m.pcolormesh(X,Y,harmoniedat)\n",
    "m.drawcoastlines()\n",
    "plt.colorbar()"
   ]
  },
  {
   "cell_type": "markdown",
   "metadata": {},
   "source": [
    "### Resolution "
   ]
  },
  {
   "cell_type": "markdown",
   "metadata": {},
   "source": [
    "Let's zoom in a little to illustrate difference in resolutions. By plotting the gridded data as a mesh, one can easily get the grid size from the figures. Plot's given for the Norwegian coast."
   ]
  },
  {
   "cell_type": "code",
   "execution_count": null,
   "metadata": {},
   "outputs": [],
   "source": [
    "m2 = Basemap(projection='merc',llcrnrlat=58,urcrnrlat=59,\\\n",
    "            llcrnrlon=5,urcrnrlon=7,lat_ts=58,resolution='i')"
   ]
  },
  {
   "cell_type": "code",
   "execution_count": null,
   "metadata": {
    "scrolled": false
   },
   "outputs": [],
   "source": [
    "gfs_x,gfs_y=np.meshgrid(gfs.get_tds_field('lon'),gfs.get_tds_field('lat'))\n",
    "fig=plt.figure(figsize=(8,8))\n",
    "plt.subplot(221)\n",
    "X,Y=m2(hir_x,hir_y)\n",
    "x1,y1,x2,y2=470,2055,493,2090\n",
    "m2.pcolormesh(X[x1:x2,y1:y2],Y[x1:x2,y1:y2],hirdat[x1:x2,y1:y2])\n",
    "m2.drawcoastlines()\n",
    "plt.colorbar()\n",
    "plt.subplot(222)\n",
    "X,Y=m2(harm_x,harm_y)\n",
    "x1,y1,x2,y2=230,330,275,380\n",
    "m2.pcolormesh(X[x1:x2,y1:y2],Y[x1:x2,y1:y2],harmoniedat[x1:x2,y1:y2])\n",
    "m2.drawcoastlines()\n",
    "plt.colorbar()\n",
    "plt.subplot(223)\n",
    "X,Y=m2(gfs_x,gfs_y)\n",
    "x1,y1,x2,y2=124,20,130,29\n",
    "m2.pcolormesh(X[x1:x2,y1:y2],Y[x1:x2,y1:y2],gfsdat[x1:x2,y1:y2])\n",
    "m2.drawcoastlines()\n",
    "plt.colorbar()"
   ]
  },
  {
   "cell_type": "markdown",
   "metadata": {},
   "source": [
    "Can you guess which model is on which map by just looking at these images?"
   ]
  },
  {
   "cell_type": "markdown",
   "metadata": {},
   "source": [
    "### Forecast for a single location\n",
    "First, get point data for all datasets for given variable and for as long time range as the forecast goes."
   ]
  },
  {
   "cell_type": "code",
   "execution_count": null,
   "metadata": {},
   "outputs": [],
   "source": [
    "sample_point_data = [(k,k.get_json_data_in_pandas(**{'var':v,'lon':longitude,'lat':latitude,'count':1000})) for k,v in sample_var_names.items()]"
   ]
  },
  {
   "cell_type": "code",
   "execution_count": null,
   "metadata": {},
   "outputs": [],
   "source": [
    "fig = plt.figure(figsize=(11,6))\n",
    "for ddd in sample_point_data:\n",
    "    zlevels = [2.]\n",
    "    for i in zlevels:\n",
    "        pdata=np.array(ddd[1][ddd[1]['z']==i][sample_var_names[ddd[0]]],dtype=np.float)\n",
    "        if np.sum(np.isnan(pdata))!=pdata.shape[0]:\n",
    "            plt.plot(ddd[1][ddd[1]['z']==i]['time'].apply(dateutil.parser.parse),pdata,label=str(i) + \"_\" + ddd[0].datasetkey)\n",
    "plt.legend()\n",
    "plt.grid()\n",
    "fig.autofmt_xdate()\n",
    "plt.title('2m temperature forecast in different weather models')\n",
    "plt.show()"
   ]
  },
  {
   "cell_type": "code",
   "execution_count": null,
   "metadata": {},
   "outputs": [],
   "source": []
  }
 ],
 "metadata": {
  "anaconda-cloud": {},
  "kernelspec": {
   "display_name": "Python 3",
   "language": "python",
   "name": "python3"
  },
  "language_info": {
   "codemirror_mode": {
    "name": "ipython",
    "version": 3
   },
   "file_extension": ".py",
   "mimetype": "text/x-python",
   "name": "python",
   "nbconvert_exporter": "python",
   "pygments_lexer": "ipython3",
   "version": "3.6.3"
  },
  "widgets": {
   "application/vnd.jupyter.widget-state+json": {
    "state": {},
    "version_major": 1,
    "version_minor": 0
   }
  }
 },
 "nbformat": 4,
 "nbformat_minor": 2
}
