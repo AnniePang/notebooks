{
 "cells": [
  {
   "cell_type": "markdown",
   "metadata": {},
   "source": [
    "## ECMWF API Authorization Review\n",
    "\n",
    "This notebook uses the ECMWF python library to access its Web API and test various authentication conditions to see what responses are provided under various conditions. More information, including code samples and documentation, is available in the [ECMWF Wiki](https://software.ecmwf.int/wiki/display/WEBAPI/Access+ECMWF+Public+Datasets).\n",
    "\n",
    "### ECMWF API Key Required\n",
    "\n",
    "Note that users must be registered with ECMWF and provide a valid API key to access data using the API. Users can register with ECMWF at https://apps.ecmwf.int/registration/\n",
    "\n",
    "### ECMWF Python Library\n",
    "\n",
    "You can install the `ecmwfapi` python library by running:\n",
    "\n",
    "`pip install https://software.ecmwf.int/wiki/download/attachments/56664858/ecmwf-api-client-python.tgz`\n",
    "\n",
    "### Summary of Findings\n",
    "\n",
    "* The ECMWF API requires a valid ECMWF API key, _which can only be acquired by registering with ECMWF on their website._\n",
    "* For self-registered users, the corresponding email address associated with the ECMWF key must also be included. This could be problematic if their email address used with ECMWF differs from that used to register with Planet OS. These credentials should be stored as an independent pair, and not assume emails are identical across platforms.\n",
    "* When attempting to retreive data, an APIException is raised when the ECMWF API key is invalid or missing.\n",
    "* When attempting to retreive data, an APIException is raised when the user has not explicitly accepted the terms and conditions of the dataset. This may only be accomplished through the ECMWF UI, however the API does return a link to the license terms in the APIException response."
   ]
  },
  {
   "cell_type": "code",
   "execution_count": 1,
   "metadata": {
    "collapsed": true
   },
   "outputs": [],
   "source": [
    "import os\n",
    "from ecmwfapi import ECMWFDataServer\n",
    "\n",
    "# Configure ECMWF access authentication. The library looks for\n",
    "# these variables in the environment, or a .ecmwfapirc file in\n",
    "# the user's home directory.\n",
    "\n",
    "# Users must register with ECMWF to acquire an API key, this can\n",
    "# be done at https://apps.ecmwf.int/registration/\n",
    "os.environ[\"ECMWF_API_KEY\"] = 'ECMWF_API_KEY'\n",
    "os.environ[\"ECMWF_API_EMAIL\"] = 'ECMWF_ACCOUNT_EMAIL_ADDRESS'\n",
    "os.environ[\"ECMWF_API_URL\"] = 'https://api.ecmwf.int/v1'"
   ]
  },
  {
   "cell_type": "code",
   "execution_count": 2,
   "metadata": {
    "collapsed": false
   },
   "outputs": [
    {
     "name": "stdout",
     "output_type": "stream",
     "text": [
      "2016-11-01 12:58:43 ECMWF API python library 1.4.1\n",
      "2016-11-01 12:58:43 ECMWF API at https://api.ecmwf.int/v1\n",
      "2016-11-01 12:58:44 Welcome Chris Kalima\n",
      "2016-11-01 12:58:45 In case of problems, please check https://software.ecmwf.int/wiki/display/WEBAPI/Troubleshooting or contact calldesk@ecmwf.int\n",
      "2016-11-01 12:58:45 You may also wish to check the MARS service activity page http://apps.ecmwf.int/mars-activity/\n",
      "2016-11-01 12:58:46 Request submitted\n",
      "2016-11-01 12:58:46 Request id: 5818f3f6f7414d50c0cb6ed5\n",
      "2016-11-01 12:58:46 Request is queued\n",
      "Calling '['nice', 'mars', '/tmp/tmp-_marsNdqCKJ.req']'\n",
      "mars - WARN -\n",
      "mars - WARN - From 9 February 2016 10AM (UTC) MARS uses versions of\n",
      "mars - WARN - libemos newer than 4.3.0. For more details, see\n",
      "mars - WARN - https://software.ecmwf.int/wiki/display/EMOS/Bug+fix+implemented+in+EMOSLIB+4.3.x\n",
      "mars - WARN -\n",
      "PPDIR is /var/tmp/ppdir/x86_64\n",
      "mars - INFO   - 20161101.195847 - Welcome to MARS with grib_api and ODB\n",
      "mars - INFO   - 20161101.195847 - MARS Client build stamp: 20160429081542\n",
      "mars - INFO   - 20161101.195847 - MARS Client version: 6.15.2\n",
      "mars - INFO   - 20161101.195847 - EMOSLIB version: 441\n",
      "mars - INFO   - 20161101.195847 - Using grib_api version 1.15.0\n",
      "mars - INFO   - 20161101.195847 - Using odb_api version: 0.11.0 (file format version: 0.5)\n",
      "mars - INFO   - 20161101.195847 - Maximum retrieval size is 20.00 G\n",
      "retrieve,class=ei,date=2014-07-01/to/2014-07-02,expect=any,expver=0001,grid=0.75/0.75,levtype=sfc,padding=0,param=165.128/166.128/167.128,step=0,stream=oper,time=00/06/12/18,type=anmars - WARN   - 20161101.195847 - For full resolution grid, it is recommended to use RESOL=AV to prevent any truncation before transformation\n",
      "mars - INFO   - 20161101.195847 - Automatic split by date is on\n",
      "\n",
      "mars - INFO   - 20161101.195847 - Processing request 1\n",
      "\n",
      "RETRIEVE,\n",
      "    CLASS      = EI,\n",
      "    TYPE       = AN,\n",
      "    STREAM     = OPER,\n",
      "    EXPVER     = 0001,\n",
      "    REPRES     = SH,\n",
      "    LEVTYPE    = SFC,\n",
      "    PARAM      = 165.128/166.128/167.128,\n",
      "    TIME       = 0000/0600/1200/1800,\n",
      "    STEP       = 0,\n",
      "    DOMAIN     = G,\n",
      "    RESOL      = AUTO,\n",
      "    GRID       = 0.75/0.75,\n",
      "    PADDING    = 0,\n",
      "    EXPECT     = ANY,\n",
      "    DATE       = 20140701/20140702\n",
      "\n",
      "mars - INFO   - 20161101.195847 - Web API request id: 5818f3f6f7414d50c0cb6ed5\n",
      "mars - INFO   - 20161101.195847 - Requesting any number of fields (request describes 24)\n",
      "mars - INFO   - 20161101.195847 - Calling mars on 'marser', callback on 37260\n",
      "mars - INFO   - 20161101.195847 - Server task is 612 [marser]\n",
      "mars - INFO   - 20161101.195847 - Request cost: 24 fields, 4.08087 Mbytes online, nodes: mvr02 [marser]\n",
      "mars - INFO   - 20161101.195848 - Transfering 4279104 bytes\n",
      "2016-11-01 12:58:48 Request is active\n",
      "mars - INFO   - 20161101.195849 - 24 fields retrieved from 'marser'\n",
      "mars - INFO   - 20161101.195849 - 24 fields have been interpolated\n",
      "mars - INFO   - 20161101.195849 - Request time:  wall: 1 sec\n",
      "mars - INFO   - 20161101.195849 -   Read from network: 4.08 Mbyte(s) in < 1 sec [15.52 Mbyte/sec]\n",
      "mars - INFO   - 20161101.195849 -   Visiting marser: wall: 1 sec\n",
      "mars - INFO   - 20161101.195849 -   Writing to target file: 5.30 Mbyte(s) in < 1 sec [943.19 Mbyte/sec]\n",
      "mars - INFO   - 20161101.195849 - No errors reported\n",
      "Process '['nice', 'mars', '/tmp/tmp-_marsNdqCKJ.req']' finished\n",
      "Calling '['nice', 'grib_to_netcdf', '/data/data01/scratch/_mars-atls19-95e2cf679cd58ee9b4db4dd119a05a8d-6xHhSW.grib', '-o', '/data/data01/scratch/_grib2netcdf-atls01-95e2cf679cd58ee9b4db4dd119a05a8d-JK71eI.nc', '-utime']'\n",
      "grib_to_netcdf: Version 1.16.0\n",
      "grib_to_netcdf: Processing input file '/data/data01/scratch/_mars-atls19-95e2cf679cd58ee9b4db4dd119a05a8d-6xHhSW.grib'.\n",
      "grib_to_netcdf: Found 24 GRIB fields in 1 file.\n",
      "grib_to_netcdf: Ignoring key(s): method, type, stream, refdate, hdate\n",
      "grib_to_netcdf: Creating netCDF file '/data/data01/scratch/_grib2netcdf-atls01-95e2cf679cd58ee9b4db4dd119a05a8d-JK71eI.nc'\n",
      "grib_to_netcdf: NetCDF library version: 4.3.0 of Aug 22 2016 13:47:31 $\n",
      "grib_to_netcdf: Creating large (64 bit) file format.\n",
      "grib_to_netcdf: Defining variable 'u10'.\n",
      "grib_to_netcdf: Defining variable 'v10'.\n",
      "grib_to_netcdf: Defining variable 't2m'.\n",
      "grib_to_netcdf: Done.\n",
      "Process '['nice', 'grib_to_netcdf', '/data/data01/scratch/_mars-atls19-95e2cf679cd58ee9b4db4dd119a05a8d-6xHhSW.grib', '-o', '/data/data01/scratch/_grib2netcdf-atls01-95e2cf679cd58ee9b4db4dd119a05a8d-JK71eI.nc', '-utime']' finished\n",
      "2016-11-01 12:58:54 Request is complete\n",
      "2016-11-01 12:58:54 Transfering 5.29962 Mbytes into interim_2014-07-01to2014-07-02_00061218.nc\n",
      "2016-11-01 12:58:54 From http://stream.ecmwf.int/data/atls01/data/data01/scratch/_grib2netcdf-atls01-95e2cf679cd58ee9b4db4dd119a05a8d-JK71eI.nc\n",
      "2016-11-01 12:59:06 Transfer rate 432.287 Kbytes/s\n"
     ]
    }
   ],
   "source": [
    "# Sample Request\n",
    "# See https://software.ecmwf.int/wiki/display/WEBAPI/Python+ERA-interim+examples\n",
    "server = ECMWFDataServer()\n",
    "server.retrieve({\n",
    "    'stream'    : \"oper\",\n",
    "    'levtype'   : \"sfc\",\n",
    "    'param'     : \"165.128/166.128/167.128\",\n",
    "    'dataset'   : \"interim\",\n",
    "    'step'      : \"0\",\n",
    "    'grid'      : \"0.75/0.75\",\n",
    "    'time'      : \"00/06/12/18\",\n",
    "    'date'      : \"2014-07-01/to/2014-07-02\",\n",
    "    'type'      : \"an\",\n",
    "    'class'     : \"ei\",\n",
    "    'format'    : \"netcdf\",\n",
    "    'target'    : \"interim_2014-07-01to2014-07-02_00061218.nc\"\n",
    " })"
   ]
  },
  {
   "cell_type": "code",
   "execution_count": 3,
   "metadata": {
    "collapsed": false
   },
   "outputs": [
    {
     "name": "stdout",
     "output_type": "stream",
     "text": [
      "2016-11-01 12:59:07 ECMWF API python library 1.4.1\n",
      "2016-11-01 12:59:07 ECMWF API at https://api.ecmwf.int/v1\n"
     ]
    },
    {
     "ename": "APIException",
     "evalue": "'ecmwf.API error 1: Invalid or missing key or token'",
     "output_type": "error",
     "traceback": [
      "\u001b[0;31m---------------------------------------------------------------------------\u001b[0m",
      "\u001b[0;31mAPIException\u001b[0m                              Traceback (most recent call last)",
      "\u001b[0;32m<ipython-input-3-0e85e5f51957>\u001b[0m in \u001b[0;36m<module>\u001b[0;34m()\u001b[0m\n\u001b[1;32m     15\u001b[0m     \u001b[0;34m'class'\u001b[0m     \u001b[0;34m:\u001b[0m \u001b[0;34m\"ei\"\u001b[0m\u001b[0;34m,\u001b[0m\u001b[0;34m\u001b[0m\u001b[0m\n\u001b[1;32m     16\u001b[0m     \u001b[0;34m'format'\u001b[0m    \u001b[0;34m:\u001b[0m \u001b[0;34m\"netcdf\"\u001b[0m\u001b[0;34m,\u001b[0m\u001b[0;34m\u001b[0m\u001b[0m\n\u001b[0;32m---> 17\u001b[0;31m     \u001b[0;34m'target'\u001b[0m    \u001b[0;34m:\u001b[0m \u001b[0;34m\"interim_2014-07-01to2014-07-02_00061218.nc\"\u001b[0m\u001b[0;34m\u001b[0m\u001b[0m\n\u001b[0m\u001b[1;32m     18\u001b[0m  })\n",
      "\u001b[0;32m/Users/ckalima/.virtualenvs/notebooks/lib/python3.5/site-packages/ecmwfapi/api.py\u001b[0m in \u001b[0;36mretrieve\u001b[0;34m(self, req)\u001b[0m\n\u001b[1;32m    487\u001b[0m         \u001b[0mtarget\u001b[0m \u001b[0;34m=\u001b[0m \u001b[0mreq\u001b[0m\u001b[0;34m.\u001b[0m\u001b[0mget\u001b[0m\u001b[0;34m(\u001b[0m\u001b[0;34m\"target\"\u001b[0m\u001b[0;34m)\u001b[0m\u001b[0;34m\u001b[0m\u001b[0m\n\u001b[1;32m    488\u001b[0m         \u001b[0mdataset\u001b[0m \u001b[0;34m=\u001b[0m \u001b[0mreq\u001b[0m\u001b[0;34m.\u001b[0m\u001b[0mget\u001b[0m\u001b[0;34m(\u001b[0m\u001b[0;34m\"dataset\"\u001b[0m\u001b[0;34m)\u001b[0m\u001b[0;34m\u001b[0m\u001b[0m\n\u001b[0;32m--> 489\u001b[0;31m         \u001b[0mc\u001b[0m \u001b[0;34m=\u001b[0m \u001b[0mAPIRequest\u001b[0m\u001b[0;34m(\u001b[0m\u001b[0mself\u001b[0m\u001b[0;34m.\u001b[0m\u001b[0murl\u001b[0m\u001b[0;34m,\u001b[0m \u001b[0;34m\"datasets/%s\"\u001b[0m \u001b[0;34m%\u001b[0m \u001b[0;34m(\u001b[0m\u001b[0mdataset\u001b[0m\u001b[0;34m,\u001b[0m\u001b[0;34m)\u001b[0m\u001b[0;34m,\u001b[0m \u001b[0mself\u001b[0m\u001b[0;34m.\u001b[0m\u001b[0memail\u001b[0m\u001b[0;34m,\u001b[0m \u001b[0mself\u001b[0m\u001b[0;34m.\u001b[0m\u001b[0mkey\u001b[0m\u001b[0;34m,\u001b[0m \u001b[0mself\u001b[0m\u001b[0;34m.\u001b[0m\u001b[0mtrace\u001b[0m\u001b[0;34m,\u001b[0m \u001b[0mverbose\u001b[0m\u001b[0;34m=\u001b[0m\u001b[0mself\u001b[0m\u001b[0;34m.\u001b[0m\u001b[0mverbose\u001b[0m\u001b[0;34m)\u001b[0m\u001b[0;34m\u001b[0m\u001b[0m\n\u001b[0m\u001b[1;32m    490\u001b[0m         \u001b[0mc\u001b[0m\u001b[0;34m.\u001b[0m\u001b[0mexecute\u001b[0m\u001b[0;34m(\u001b[0m\u001b[0mreq\u001b[0m\u001b[0;34m,\u001b[0m \u001b[0mtarget\u001b[0m\u001b[0;34m)\u001b[0m\u001b[0;34m\u001b[0m\u001b[0m\n\u001b[1;32m    491\u001b[0m \u001b[0;34m\u001b[0m\u001b[0m\n",
      "\u001b[0;32m/Users/ckalima/.virtualenvs/notebooks/lib/python3.5/site-packages/ecmwfapi/api.py\u001b[0m in \u001b[0;36m__init__\u001b[0;34m(self, url, service, email, key, log, quiet, verbose, news)\u001b[0m\n\u001b[1;32m    367\u001b[0m         \u001b[0mself\u001b[0m\u001b[0;34m.\u001b[0m\u001b[0mlog\u001b[0m\u001b[0;34m(\u001b[0m\u001b[0;34m\"ECMWF API python library %s\"\u001b[0m \u001b[0;34m%\u001b[0m \u001b[0;34m(\u001b[0m\u001b[0mVERSION\u001b[0m\u001b[0;34m,\u001b[0m\u001b[0;34m)\u001b[0m\u001b[0;34m)\u001b[0m\u001b[0;34m\u001b[0m\u001b[0m\n\u001b[1;32m    368\u001b[0m         \u001b[0mself\u001b[0m\u001b[0;34m.\u001b[0m\u001b[0mlog\u001b[0m\u001b[0;34m(\u001b[0m\u001b[0;34m\"ECMWF API at %s\"\u001b[0m \u001b[0;34m%\u001b[0m \u001b[0;34m(\u001b[0m\u001b[0mself\u001b[0m\u001b[0;34m.\u001b[0m\u001b[0murl\u001b[0m\u001b[0;34m,\u001b[0m\u001b[0;34m)\u001b[0m\u001b[0;34m)\u001b[0m\u001b[0;34m\u001b[0m\u001b[0m\n\u001b[0;32m--> 369\u001b[0;31m         \u001b[0muser\u001b[0m \u001b[0;34m=\u001b[0m \u001b[0mself\u001b[0m\u001b[0;34m.\u001b[0m\u001b[0mconnection\u001b[0m\u001b[0;34m.\u001b[0m\u001b[0mcall\u001b[0m\u001b[0;34m(\u001b[0m\u001b[0;34m\"%s/%s\"\u001b[0m \u001b[0;34m%\u001b[0m \u001b[0;34m(\u001b[0m\u001b[0mself\u001b[0m\u001b[0;34m.\u001b[0m\u001b[0murl\u001b[0m\u001b[0;34m,\u001b[0m \u001b[0;34m\"who-am-i\"\u001b[0m\u001b[0;34m)\u001b[0m\u001b[0;34m)\u001b[0m\u001b[0;34m\u001b[0m\u001b[0m\n\u001b[0m\u001b[1;32m    370\u001b[0m         \u001b[0mself\u001b[0m\u001b[0;34m.\u001b[0m\u001b[0mlog\u001b[0m\u001b[0;34m(\u001b[0m\u001b[0;34m\"Welcome %s\"\u001b[0m \u001b[0;34m%\u001b[0m \u001b[0;34m(\u001b[0m\u001b[0muser\u001b[0m\u001b[0;34m[\u001b[0m\u001b[0;34m\"full_name\"\u001b[0m\u001b[0;34m]\u001b[0m \u001b[0;32mor\u001b[0m \u001b[0;34m\"user '%s'\"\u001b[0m \u001b[0;34m%\u001b[0m \u001b[0muser\u001b[0m\u001b[0;34m[\u001b[0m\u001b[0;34m\"uid\"\u001b[0m\u001b[0;34m]\u001b[0m\u001b[0;34m,\u001b[0m\u001b[0;34m)\u001b[0m\u001b[0;34m)\u001b[0m\u001b[0;34m\u001b[0m\u001b[0m\n\u001b[1;32m    371\u001b[0m         \u001b[0;32mif\u001b[0m \u001b[0mnews\u001b[0m\u001b[0;34m:\u001b[0m\u001b[0;34m\u001b[0m\u001b[0m\n",
      "\u001b[0;32m/Users/ckalima/.virtualenvs/notebooks/lib/python3.5/site-packages/ecmwfapi/api.py\u001b[0m in \u001b[0;36mwrapped\u001b[0;34m(self, *args, **kwargs)\u001b[0m\n\u001b[1;32m    134\u001b[0m         \u001b[0;32mwhile\u001b[0m \u001b[0mtries\u001b[0m \u001b[0;34m>\u001b[0m \u001b[0;36m0\u001b[0m\u001b[0;34m:\u001b[0m\u001b[0;34m\u001b[0m\u001b[0m\n\u001b[1;32m    135\u001b[0m             \u001b[0;32mtry\u001b[0m\u001b[0;34m:\u001b[0m\u001b[0;34m\u001b[0m\u001b[0m\n\u001b[0;32m--> 136\u001b[0;31m                 \u001b[0;32mreturn\u001b[0m \u001b[0mfunc\u001b[0m\u001b[0;34m(\u001b[0m\u001b[0mself\u001b[0m\u001b[0;34m,\u001b[0m \u001b[0;34m*\u001b[0m\u001b[0margs\u001b[0m\u001b[0;34m,\u001b[0m \u001b[0;34m**\u001b[0m\u001b[0mkwargs\u001b[0m\u001b[0;34m)\u001b[0m\u001b[0;34m\u001b[0m\u001b[0m\n\u001b[0m\u001b[1;32m    137\u001b[0m             \u001b[0;32mexcept\u001b[0m \u001b[0mHTTPError\u001b[0m \u001b[0;32mas\u001b[0m \u001b[0me\u001b[0m\u001b[0;34m:\u001b[0m\u001b[0;34m\u001b[0m\u001b[0m\n\u001b[1;32m    138\u001b[0m                 \u001b[0;32mif\u001b[0m \u001b[0mself\u001b[0m\u001b[0;34m.\u001b[0m\u001b[0mverbose\u001b[0m\u001b[0;34m:\u001b[0m\u001b[0;34m\u001b[0m\u001b[0m\n",
      "\u001b[0;32m/Users/ckalima/.virtualenvs/notebooks/lib/python3.5/site-packages/ecmwfapi/api.py\u001b[0m in \u001b[0;36mcall\u001b[0;34m(self, url, payload, method)\u001b[0m\n\u001b[1;32m    317\u001b[0m         \u001b[0;32mif\u001b[0m \u001b[0;34m\"error\"\u001b[0m \u001b[0;32min\u001b[0m \u001b[0mself\u001b[0m\u001b[0;34m.\u001b[0m\u001b[0mlast\u001b[0m\u001b[0;34m:\u001b[0m\u001b[0;34m\u001b[0m\u001b[0m\n\u001b[1;32m    318\u001b[0m             \u001b[0;31m#self.done   = True\u001b[0m\u001b[0;34m\u001b[0m\u001b[0;34m\u001b[0m\u001b[0m\n\u001b[0;32m--> 319\u001b[0;31m             \u001b[0;32mraise\u001b[0m \u001b[0mAPIException\u001b[0m\u001b[0;34m(\u001b[0m\u001b[0;34m\"ecmwf.API error 1: %s\"\u001b[0m \u001b[0;34m%\u001b[0m \u001b[0;34m(\u001b[0m\u001b[0mself\u001b[0m\u001b[0;34m.\u001b[0m\u001b[0mlast\u001b[0m\u001b[0;34m[\u001b[0m\u001b[0;34m\"error\"\u001b[0m\u001b[0;34m]\u001b[0m\u001b[0;34m,\u001b[0m\u001b[0;34m)\u001b[0m\u001b[0;34m)\u001b[0m\u001b[0;34m\u001b[0m\u001b[0m\n\u001b[0m\u001b[1;32m    320\u001b[0m \u001b[0;34m\u001b[0m\u001b[0m\n\u001b[1;32m    321\u001b[0m         \u001b[0;32mif\u001b[0m \u001b[0merror\u001b[0m\u001b[0;34m:\u001b[0m\u001b[0;34m\u001b[0m\u001b[0m\n",
      "\u001b[0;31mAPIException\u001b[0m: 'ecmwf.API error 1: Invalid or missing key or token'"
     ]
    }
   ],
   "source": [
    "# Let's invalidate the key and see what happens...\n",
    "os.environ[\"ECMWF_API_KEY\"] = 'badkey'\n",
    "\n",
    "server = ECMWFDataServer()\n",
    "server.retrieve({\n",
    "    'stream'    : \"oper\",\n",
    "    'levtype'   : \"sfc\",\n",
    "    'param'     : \"165.128/166.128/167.128\",\n",
    "    'dataset'   : \"interim\",\n",
    "    'step'      : \"0\",\n",
    "    'grid'      : \"0.75/0.75\",\n",
    "    'time'      : \"00/06/12/18\",\n",
    "    'date'      : \"2014-07-01/to/2014-07-02\",\n",
    "    'type'      : \"an\",\n",
    "    'class'     : \"ei\",\n",
    "    'format'    : \"netcdf\",\n",
    "    'target'    : \"interim_2014-07-01to2014-07-02_00061218.nc\"\n",
    " })"
   ]
  },
  {
   "cell_type": "markdown",
   "metadata": {},
   "source": [
    "With an invalid key, an `APIException` is raised when a retrieval request is sent:\n",
    "\n",
    "`APIException: 'ecmwf.API error 1: Invalid or missing key or token'`"
   ]
  },
  {
   "cell_type": "code",
   "execution_count": 4,
   "metadata": {
    "collapsed": false
   },
   "outputs": [
    {
     "name": "stdout",
     "output_type": "stream",
     "text": [
      "Server Email: bademail@planetos.com\n",
      "2016-11-01 13:01:59 ECMWF API python library 1.4.1\n",
      "2016-11-01 13:01:59 ECMWF API at https://api.ecmwf.int/v1\n",
      "2016-11-01 13:02:00 Welcome Chris Kalima\n",
      "2016-11-01 13:02:00 In case of problems, please check https://software.ecmwf.int/wiki/display/WEBAPI/Troubleshooting or contact calldesk@ecmwf.int\n",
      "2016-11-01 13:02:00 You may also wish to check the MARS service activity page http://apps.ecmwf.int/mars-activity/\n",
      "2016-11-01 13:02:01 Request submitted\n",
      "2016-11-01 13:02:01 Request id: 5818f4b9ff29d051f0be4bde\n",
      "2016-11-01 13:02:01 Request is queued\n",
      "Calling '['nice', 'mars', '/tmp/tmp-_marsRUGb1D.req']'\n",
      "mars - WARN -\n",
      "mars - WARN - From 9 February 2016 10AM (UTC) MARS uses versions of\n",
      "mars - WARN - libemos newer than 4.3.0. For more details, see\n",
      "mars - WARN - https://software.ecmwf.int/wiki/display/EMOS/Bug+fix+implemented+in+EMOSLIB+4.3.x\n",
      "mars - WARN -\n",
      "PPDIR is /var/tmp/ppdir/x86_64\n",
      "mars - INFO   - 20161101.200202 - Welcome to MARS with grib_api and ODB\n",
      "mars - INFO   - 20161101.200202 - MARS Client build stamp: 20160429081542\n",
      "mars - INFO   - 20161101.200202 - MARS Client version: 6.15.2\n",
      "mars - INFO   - 20161101.200202 - EMOSLIB version: 441\n",
      "mars - INFO   - 20161101.200202 - Using grib_api version 1.15.0\n",
      "mars - INFO   - 20161101.200202 - Using odb_api version: 0.11.0 (file format version: 0.5)\n",
      "mars - INFO   - 20161101.200202 - Maximum retrieval size is 20.00 G\n",
      "retrieve,class=ei,date=2014-07-01/to/2014-07-02,expect=any,expver=0001,grid=0.75/0.75,levtype=sfc,padding=0,param=165.128/166.128/167.128,step=0,stream=oper,time=00/06/12/18,type=anmars - WARN   - 20161101.200202 - For full resolution grid, it is recommended to use RESOL=AV to prevent any truncation before transformation\n",
      "mars - INFO   - 20161101.200202 - Automatic split by date is on\n",
      "\n",
      "mars - INFO   - 20161101.200202 - Processing request 1\n",
      "\n",
      "RETRIEVE,\n",
      "    CLASS      = EI,\n",
      "    TYPE       = AN,\n",
      "    STREAM     = OPER,\n",
      "    EXPVER     = 0001,\n",
      "    REPRES     = SH,\n",
      "    LEVTYPE    = SFC,\n",
      "    PARAM      = 165.128/166.128/167.128,\n",
      "    TIME       = 0000/0600/1200/1800,\n",
      "    STEP       = 0,\n",
      "    DOMAIN     = G,\n",
      "    RESOL      = AUTO,\n",
      "    GRID       = 0.75/0.75,\n",
      "    PADDING    = 0,\n",
      "    EXPECT     = ANY,\n",
      "    DATE       = 20140701/20140702\n",
      "\n",
      "mars - INFO   - 20161101.200202 - Web API request id: 5818f4b9ff29d051f0be4bde\n",
      "mars - INFO   - 20161101.200202 - Requesting any number of fields (request describes 24)\n",
      "mars - INFO   - 20161101.200202 - Calling mars on 'marser', callback on 59918\n",
      "mars - INFO   - 20161101.200202 - Server task is 201 [marser]\n",
      "mars - INFO   - 20161101.200202 - Request cost: 24 fields, 4.08087 Mbytes online, nodes: mvr02 [marser]\n",
      "mars - INFO   - 20161101.200202 - Transfering 4279104 bytes\n",
      "mars - INFO   - 20161101.200203 - 24 fields retrieved from 'marser'\n",
      "mars - INFO   - 20161101.200203 - 24 fields have been interpolated\n",
      "mars - INFO   - 20161101.200203 - Request time:  wall: 1 sec\n",
      "mars - INFO   - 20161101.200203 -   Read from network: 4.08 Mbyte(s) in < 1 sec [730.16 Mbyte/sec]\n",
      "mars - INFO   - 20161101.200203 -   Writing to target file: 5.30 Mbyte(s) in < 1 sec [662.24 Mbyte/sec]\n",
      "mars - INFO   - 20161101.200203 - No errors reported\n",
      "Process '['nice', 'mars', '/tmp/tmp-_marsRUGb1D.req']' finished\n",
      "Calling '['nice', 'grib_to_netcdf', '/data/data01/scratch/_mars-atls18-95e2cf679cd58ee9b4db4dd119a05a8d-Jz3BL8.grib', '-o', '/data/data01/scratch/_grib2netcdf-atls01-95e2cf679cd58ee9b4db4dd119a05a8d-9IyNHM.nc', '-utime']'\n",
      "2016-11-01 13:02:03 Request is active\n",
      "grib_to_netcdf: Version 1.16.0\n",
      "grib_to_netcdf: Processing input file '/data/data01/scratch/_mars-atls18-95e2cf679cd58ee9b4db4dd119a05a8d-Jz3BL8.grib'.\n",
      "grib_to_netcdf: Found 24 GRIB fields in 1 file.\n",
      "grib_to_netcdf: Ignoring key(s): method, type, stream, refdate, hdate\n",
      "grib_to_netcdf: Creating netCDF file '/data/data01/scratch/_grib2netcdf-atls01-95e2cf679cd58ee9b4db4dd119a05a8d-9IyNHM.nc'\n",
      "grib_to_netcdf: NetCDF library version: 4.3.0 of Aug 22 2016 13:47:31 $\n",
      "grib_to_netcdf: Creating large (64 bit) file format.\n",
      "grib_to_netcdf: Defining variable 'u10'.\n",
      "grib_to_netcdf: Defining variable 'v10'.\n",
      "grib_to_netcdf: Defining variable 't2m'.\n",
      "grib_to_netcdf: Done.\n",
      "Process '['nice', 'grib_to_netcdf', '/data/data01/scratch/_mars-atls18-95e2cf679cd58ee9b4db4dd119a05a8d-Jz3BL8.grib', '-o', '/data/data01/scratch/_grib2netcdf-atls01-95e2cf679cd58ee9b4db4dd119a05a8d-9IyNHM.nc', '-utime']' finished\n",
      "2016-11-01 13:02:09 Request is complete\n",
      "2016-11-01 13:02:09 Transfering 5.29962 Mbytes into interim_2014-07-01to2014-07-02_00061218.nc\n",
      "2016-11-01 13:02:09 From http://stream.ecmwf.int/data/atls01/data/data01/scratch/_grib2netcdf-atls01-95e2cf679cd58ee9b4db4dd119a05a8d-9IyNHM.nc\n",
      "2016-11-01 13:02:33 Transfer rate 225.669 Kbytes/s\n"
     ]
    }
   ],
   "source": [
    "# Let's try an invalid email with a valid API key...\n",
    "os.environ[\"ECMWF_API_KEY\"] = 'c73ca7414cebdf3a6c12b86b3b84cabd'\n",
    "os.environ[\"ECMWF_API_EMAIL\"] = 'bademail@planetos.com'\n",
    "\n",
    "server = ECMWFDataServer()\n",
    "\n",
    "print(\"Server Email: %s\" % server.email)\n",
    "\n",
    "server.retrieve({\n",
    "    'stream'    : \"oper\",\n",
    "    'levtype'   : \"sfc\",\n",
    "    'param'     : \"165.128/166.128/167.128\",\n",
    "    'dataset'   : \"interim\",\n",
    "    'step'      : \"0\",\n",
    "    'grid'      : \"0.75/0.75\",\n",
    "    'time'      : \"00/06/12/18\",\n",
    "    'date'      : \"2014-07-01/to/2014-07-02\",\n",
    "    'type'      : \"an\",\n",
    "    'class'     : \"ei\",\n",
    "    'format'    : \"netcdf\",\n",
    "    'target'    : \"interim_2014-07-01to2014-07-02_00061218.nc\"\n",
    " })"
   ]
  },
  {
   "cell_type": "markdown",
   "metadata": {},
   "source": [
    "Success! Seems like the email is not used to authenticate the request, only the API key. According to the [ECMWF REST API documentation](https://software.ecmwf.int/wiki/pages/viewpage.action?pageId=22907895) an email address is only required for \"self-registered users.\" It's unclear at this time exactly what \"self-registered\" means."
   ]
  },
  {
   "cell_type": "code",
   "execution_count": 5,
   "metadata": {
    "collapsed": false
   },
   "outputs": [
    {
     "name": "stdout",
     "output_type": "stream",
     "text": [
      "2016-11-01 13:02:34 ECMWF API python library 1.4.1\n",
      "2016-11-01 13:02:34 ECMWF API at https://api.ecmwf.int/v1\n",
      "2016-11-01 13:02:35 Welcome Chris Kalima\n"
     ]
    },
    {
     "ename": "APIException",
     "evalue": "\"ecmwf.API error 1: User 'christopher.kalima@gmail.com' has not access to datasets/tigge. Please accept the terms and conditions at http://apps.ecmwf.int/datasets/licences/tigge\"",
     "output_type": "error",
     "traceback": [
      "\u001b[0;31m---------------------------------------------------------------------------\u001b[0m",
      "\u001b[0;31mAPIException\u001b[0m                              Traceback (most recent call last)",
      "\u001b[0;32m<ipython-input-5-53ea75b13af7>\u001b[0m in \u001b[0;36m<module>\u001b[0;34m()\u001b[0m\n\u001b[1;32m     19\u001b[0m     \u001b[0;34m'type'\u001b[0m      \u001b[0;34m:\u001b[0m \u001b[0;34m\"cf\"\u001b[0m\u001b[0;34m,\u001b[0m\u001b[0;34m\u001b[0m\u001b[0m\n\u001b[1;32m     20\u001b[0m     \u001b[0;34m'class'\u001b[0m     \u001b[0;34m:\u001b[0m \u001b[0;34m\"ti\"\u001b[0m\u001b[0;34m,\u001b[0m\u001b[0;34m\u001b[0m\u001b[0m\n\u001b[0;32m---> 21\u001b[0;31m     \u001b[0;34m'target'\u001b[0m    \u001b[0;34m:\u001b[0m \u001b[0;34m\"tigge_2014-10-01_00061218.grib\"\u001b[0m\u001b[0;34m\u001b[0m\u001b[0m\n\u001b[0m\u001b[1;32m     22\u001b[0m })\n",
      "\u001b[0;32m/Users/ckalima/.virtualenvs/notebooks/lib/python3.5/site-packages/ecmwfapi/api.py\u001b[0m in \u001b[0;36mretrieve\u001b[0;34m(self, req)\u001b[0m\n\u001b[1;32m    488\u001b[0m         \u001b[0mdataset\u001b[0m \u001b[0;34m=\u001b[0m \u001b[0mreq\u001b[0m\u001b[0;34m.\u001b[0m\u001b[0mget\u001b[0m\u001b[0;34m(\u001b[0m\u001b[0;34m\"dataset\"\u001b[0m\u001b[0;34m)\u001b[0m\u001b[0;34m\u001b[0m\u001b[0m\n\u001b[1;32m    489\u001b[0m         \u001b[0mc\u001b[0m \u001b[0;34m=\u001b[0m \u001b[0mAPIRequest\u001b[0m\u001b[0;34m(\u001b[0m\u001b[0mself\u001b[0m\u001b[0;34m.\u001b[0m\u001b[0murl\u001b[0m\u001b[0;34m,\u001b[0m \u001b[0;34m\"datasets/%s\"\u001b[0m \u001b[0;34m%\u001b[0m \u001b[0;34m(\u001b[0m\u001b[0mdataset\u001b[0m\u001b[0;34m,\u001b[0m\u001b[0;34m)\u001b[0m\u001b[0;34m,\u001b[0m \u001b[0mself\u001b[0m\u001b[0;34m.\u001b[0m\u001b[0memail\u001b[0m\u001b[0;34m,\u001b[0m \u001b[0mself\u001b[0m\u001b[0;34m.\u001b[0m\u001b[0mkey\u001b[0m\u001b[0;34m,\u001b[0m \u001b[0mself\u001b[0m\u001b[0;34m.\u001b[0m\u001b[0mtrace\u001b[0m\u001b[0;34m,\u001b[0m \u001b[0mverbose\u001b[0m\u001b[0;34m=\u001b[0m\u001b[0mself\u001b[0m\u001b[0;34m.\u001b[0m\u001b[0mverbose\u001b[0m\u001b[0;34m)\u001b[0m\u001b[0;34m\u001b[0m\u001b[0m\n\u001b[0;32m--> 490\u001b[0;31m         \u001b[0mc\u001b[0m\u001b[0;34m.\u001b[0m\u001b[0mexecute\u001b[0m\u001b[0;34m(\u001b[0m\u001b[0mreq\u001b[0m\u001b[0;34m,\u001b[0m \u001b[0mtarget\u001b[0m\u001b[0;34m)\u001b[0m\u001b[0;34m\u001b[0m\u001b[0m\n\u001b[0m\u001b[1;32m    491\u001b[0m \u001b[0;34m\u001b[0m\u001b[0m\n\u001b[1;32m    492\u001b[0m \u001b[0;31m###############################################################################\u001b[0m\u001b[0;34m\u001b[0m\u001b[0;34m\u001b[0m\u001b[0m\n",
      "\u001b[0;32m/Users/ckalima/.virtualenvs/notebooks/lib/python3.5/site-packages/ecmwfapi/api.py\u001b[0m in \u001b[0;36mexecute\u001b[0;34m(self, request, target)\u001b[0m\n\u001b[1;32m    426\u001b[0m         \u001b[0mstatus\u001b[0m \u001b[0;34m=\u001b[0m \u001b[0;32mNone\u001b[0m\u001b[0;34m\u001b[0m\u001b[0m\n\u001b[1;32m    427\u001b[0m \u001b[0;34m\u001b[0m\u001b[0m\n\u001b[0;32m--> 428\u001b[0;31m         \u001b[0mself\u001b[0m\u001b[0;34m.\u001b[0m\u001b[0mconnection\u001b[0m\u001b[0;34m.\u001b[0m\u001b[0msubmit\u001b[0m\u001b[0;34m(\u001b[0m\u001b[0;34m\"%s/%s/requests\"\u001b[0m \u001b[0;34m%\u001b[0m \u001b[0;34m(\u001b[0m\u001b[0mself\u001b[0m\u001b[0;34m.\u001b[0m\u001b[0murl\u001b[0m\u001b[0;34m,\u001b[0m \u001b[0mself\u001b[0m\u001b[0;34m.\u001b[0m\u001b[0mservice\u001b[0m\u001b[0;34m)\u001b[0m\u001b[0;34m,\u001b[0m \u001b[0mrequest\u001b[0m\u001b[0;34m)\u001b[0m\u001b[0;34m\u001b[0m\u001b[0m\n\u001b[0m\u001b[1;32m    429\u001b[0m         \u001b[0mself\u001b[0m\u001b[0;34m.\u001b[0m\u001b[0mlog\u001b[0m\u001b[0;34m(\u001b[0m\u001b[0;34m'Request submitted'\u001b[0m\u001b[0;34m)\u001b[0m\u001b[0;34m\u001b[0m\u001b[0m\n\u001b[1;32m    430\u001b[0m         \u001b[0mself\u001b[0m\u001b[0;34m.\u001b[0m\u001b[0mlog\u001b[0m\u001b[0;34m(\u001b[0m\u001b[0;34m'Request id: '\u001b[0m \u001b[0;34m+\u001b[0m \u001b[0mself\u001b[0m\u001b[0;34m.\u001b[0m\u001b[0mconnection\u001b[0m\u001b[0;34m.\u001b[0m\u001b[0mlast\u001b[0m\u001b[0;34m[\u001b[0m\u001b[0;34m'name'\u001b[0m\u001b[0;34m]\u001b[0m\u001b[0;34m)\u001b[0m\u001b[0;34m\u001b[0m\u001b[0m\n",
      "\u001b[0;32m/Users/ckalima/.virtualenvs/notebooks/lib/python3.5/site-packages/ecmwfapi/api.py\u001b[0m in \u001b[0;36msubmit\u001b[0;34m(self, url, payload)\u001b[0m\n\u001b[1;32m    326\u001b[0m \u001b[0;34m\u001b[0m\u001b[0m\n\u001b[1;32m    327\u001b[0m     \u001b[0;32mdef\u001b[0m \u001b[0msubmit\u001b[0m\u001b[0;34m(\u001b[0m\u001b[0mself\u001b[0m\u001b[0;34m,\u001b[0m \u001b[0murl\u001b[0m\u001b[0;34m,\u001b[0m \u001b[0mpayload\u001b[0m\u001b[0;34m)\u001b[0m\u001b[0;34m:\u001b[0m\u001b[0;34m\u001b[0m\u001b[0m\n\u001b[0;32m--> 328\u001b[0;31m         \u001b[0mself\u001b[0m\u001b[0;34m.\u001b[0m\u001b[0mcall\u001b[0m\u001b[0;34m(\u001b[0m\u001b[0murl\u001b[0m\u001b[0;34m,\u001b[0m \u001b[0mpayload\u001b[0m\u001b[0;34m,\u001b[0m \u001b[0;34m\"POST\"\u001b[0m\u001b[0;34m)\u001b[0m\u001b[0;34m\u001b[0m\u001b[0m\n\u001b[0m\u001b[1;32m    329\u001b[0m \u001b[0;34m\u001b[0m\u001b[0m\n\u001b[1;32m    330\u001b[0m     \u001b[0;32mdef\u001b[0m \u001b[0mPOST\u001b[0m\u001b[0;34m(\u001b[0m\u001b[0mself\u001b[0m\u001b[0;34m,\u001b[0m \u001b[0murl\u001b[0m\u001b[0;34m,\u001b[0m \u001b[0mpayload\u001b[0m\u001b[0;34m)\u001b[0m\u001b[0;34m:\u001b[0m\u001b[0;34m\u001b[0m\u001b[0m\n",
      "\u001b[0;32m/Users/ckalima/.virtualenvs/notebooks/lib/python3.5/site-packages/ecmwfapi/api.py\u001b[0m in \u001b[0;36mwrapped\u001b[0;34m(self, *args, **kwargs)\u001b[0m\n\u001b[1;32m    134\u001b[0m         \u001b[0;32mwhile\u001b[0m \u001b[0mtries\u001b[0m \u001b[0;34m>\u001b[0m \u001b[0;36m0\u001b[0m\u001b[0;34m:\u001b[0m\u001b[0;34m\u001b[0m\u001b[0m\n\u001b[1;32m    135\u001b[0m             \u001b[0;32mtry\u001b[0m\u001b[0;34m:\u001b[0m\u001b[0;34m\u001b[0m\u001b[0m\n\u001b[0;32m--> 136\u001b[0;31m                 \u001b[0;32mreturn\u001b[0m \u001b[0mfunc\u001b[0m\u001b[0;34m(\u001b[0m\u001b[0mself\u001b[0m\u001b[0;34m,\u001b[0m \u001b[0;34m*\u001b[0m\u001b[0margs\u001b[0m\u001b[0;34m,\u001b[0m \u001b[0;34m**\u001b[0m\u001b[0mkwargs\u001b[0m\u001b[0;34m)\u001b[0m\u001b[0;34m\u001b[0m\u001b[0m\n\u001b[0m\u001b[1;32m    137\u001b[0m             \u001b[0;32mexcept\u001b[0m \u001b[0mHTTPError\u001b[0m \u001b[0;32mas\u001b[0m \u001b[0me\u001b[0m\u001b[0;34m:\u001b[0m\u001b[0;34m\u001b[0m\u001b[0m\n\u001b[1;32m    138\u001b[0m                 \u001b[0;32mif\u001b[0m \u001b[0mself\u001b[0m\u001b[0;34m.\u001b[0m\u001b[0mverbose\u001b[0m\u001b[0;34m:\u001b[0m\u001b[0;34m\u001b[0m\u001b[0m\n",
      "\u001b[0;32m/Users/ckalima/.virtualenvs/notebooks/lib/python3.5/site-packages/ecmwfapi/api.py\u001b[0m in \u001b[0;36mcall\u001b[0;34m(self, url, payload, method)\u001b[0m\n\u001b[1;32m    317\u001b[0m         \u001b[0;32mif\u001b[0m \u001b[0;34m\"error\"\u001b[0m \u001b[0;32min\u001b[0m \u001b[0mself\u001b[0m\u001b[0;34m.\u001b[0m\u001b[0mlast\u001b[0m\u001b[0;34m:\u001b[0m\u001b[0;34m\u001b[0m\u001b[0m\n\u001b[1;32m    318\u001b[0m             \u001b[0;31m#self.done   = True\u001b[0m\u001b[0;34m\u001b[0m\u001b[0;34m\u001b[0m\u001b[0m\n\u001b[0;32m--> 319\u001b[0;31m             \u001b[0;32mraise\u001b[0m \u001b[0mAPIException\u001b[0m\u001b[0;34m(\u001b[0m\u001b[0;34m\"ecmwf.API error 1: %s\"\u001b[0m \u001b[0;34m%\u001b[0m \u001b[0;34m(\u001b[0m\u001b[0mself\u001b[0m\u001b[0;34m.\u001b[0m\u001b[0mlast\u001b[0m\u001b[0;34m[\u001b[0m\u001b[0;34m\"error\"\u001b[0m\u001b[0;34m]\u001b[0m\u001b[0;34m,\u001b[0m\u001b[0;34m)\u001b[0m\u001b[0;34m)\u001b[0m\u001b[0;34m\u001b[0m\u001b[0m\n\u001b[0m\u001b[1;32m    320\u001b[0m \u001b[0;34m\u001b[0m\u001b[0m\n\u001b[1;32m    321\u001b[0m         \u001b[0;32mif\u001b[0m \u001b[0merror\u001b[0m\u001b[0;34m:\u001b[0m\u001b[0;34m\u001b[0m\u001b[0m\n",
      "\u001b[0;31mAPIException\u001b[0m: \"ecmwf.API error 1: User 'christopher.kalima@gmail.com' has not access to datasets/tigge. Please accept the terms and conditions at http://apps.ecmwf.int/datasets/licences/tigge\""
     ]
    }
   ],
   "source": [
    "# Finally, let's try to access a dataset that we have not explicitly\n",
    "# agreed to the terms. We'll use the TIGGE dataset in this case,\n",
    "# see https://software.ecmwf.int/wiki/display/WEBAPI/Python+TIGGE+examples\n",
    "\n",
    "os.environ[\"ECMWF_API_KEY\"] = 'c73ca7414cebdf3a6c12b86b3b84cabd'\n",
    "os.environ[\"ECMWF_API_EMAIL\"] = 'christopher.kalima@gmail.com'\n",
    "\n",
    "server.retrieve({\n",
    "    'origin'    : \"kwbc\",\n",
    "    'levelist'  : \"200\",\n",
    "    'levtype'   : \"pl\",\n",
    "    'expver'    : \"prod\",\n",
    "    'dataset'   : \"tigge\",\n",
    "    'step'      : \"0/6/12/18/24/30\",\n",
    "    'grid'      : \"0.5/0.5\",\n",
    "    'param'     : \"131/132\",\n",
    "    'time'      : \"00/06/12/18\",\n",
    "    'date'      : \"2014-10-01\",\n",
    "    'type'      : \"cf\",\n",
    "    'class'     : \"ti\",\n",
    "    'target'    : \"tigge_2014-10-01_00061218.grib\"\n",
    "})"
   ]
  },
  {
   "cell_type": "markdown",
   "metadata": {},
   "source": [
    "The API in this case raises an `APIException` and includes a link to the terms and conditions page that must be accepted by the user before the dataset can be accessed."
   ]
  },
  {
   "cell_type": "code",
   "execution_count": null,
   "metadata": {
    "collapsed": true
   },
   "outputs": [],
   "source": []
  }
 ],
 "metadata": {
  "kernelspec": {
   "display_name": "Python 3",
   "language": "python",
   "name": "python3"
  },
  "language_info": {
   "codemirror_mode": {
    "name": "ipython",
    "version": 3
   },
   "file_extension": ".py",
   "mimetype": "text/x-python",
   "name": "python",
   "nbconvert_exporter": "python",
   "pygments_lexer": "ipython3",
   "version": "3.5.1"
  }
 },
 "nbformat": 4,
 "nbformat_minor": 0
}
