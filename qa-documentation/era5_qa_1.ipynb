{
 "cells": [
  {
   "cell_type": "markdown",
   "metadata": {},
   "source": [
    "# ECMWF ERA5 data issues review\n",
    "\n",
    "\n",
    "## Technical questions\n",
    "1. Minimum temperature at time 10:00 (and any other forecast step != 1) is given as minimum over period 09:00 - 09:59 instead of 09:01 - 10:00, as one would expect from documentation `HRES: the minimum or maximum values are in the hour ending at the forecast step`, https://confluence.ecmwf.int/display/CKB/ERA5+data+documentation#ERA5datadocumentation-Minimum/maximumsincethepreviouspostprocessing\n",
    "2. Minimum temperature at 2t forecast step 12 and mn2t step 1 is not understandable. It is not minimum over previous or next hour.\n",
    "\n",
    "## Logical issues?\n",
    "1. CDS allows data to be downloaded at 0.25 degree grid resolution, while model native resolution is 0.28125 degrees. From the ECMWF API, however, the data was given at native resolution (in GRIB files). There is an explanation about the possible reason here https://confluence.ecmwf.int/display/CKB/ERA5%3A+What+is+the+spatial+reference , which kind of says that GRIB1 is not capable of 0.28125 degrees regular lat/lon coordinates (only supports three decimal places). But there is also an mention that `However, the ECMWF interpolation software does not conserve area integrals, ...`, which makes one wonder if data interpolated to 0.25 degree grid actually is area conservative or not? Also, modern grib reading software (pygrib, java CDM) do not have problem in reading the native grid grib files and returning the correct 0.28125 resolution, so interpolation of data before giving to users, seems unnecessary.\n",
    "2. CDS only allows download of data for either forecast or analysis components. While it is perfectly understandable, that for parameters like the 2m temperature, analysis is closer to the reality/observations than 2m temperature forecast (giving new forecast made every 12 hours), it also means that 2m minimum temperature is not really useable together with 2m temperature, because the forecasted minimum can actually be higher than analysed hourly temperature, and it is not clear what is the use case for such a variable.\n",
    "\n",
    "## Analysis\n",
    "First, we analyse 2m temperature forecast vs minimum 2m temperature forecast, showing the time step difference and problem with new analysis cycle. \n",
    "Then, we show that forecasted mn2t can be higher than analysed 2t over large areas, questioning how they can be used together. \n",
    "\n",
    "## Data\n",
    "We get sample data via ECMWF API (soon to be closed). \n",
    "\n",
    "### Requests\n",
    "`{'type': 'fc', 'levtype': 'sfc', 'step': '1/2/3/4/5/6/7/8/9/10/11', 'param': '167.128', 'dataset': 'era5', 'stream': 'oper', 'target': '/data.e2/ERA5_analysis/era5_167.128_2011_1_fc.grb2', 'expver': '1', 'class': 'ea', 'date': '2011-01-01/to/2011-01-31', 'time': '06:00:00/18:00:00'}`\n",
    "\n",
    "### Location\n",
    "`/data.e2/ERA5_analysis/`\n"
   ]
  },
  {
   "cell_type": "code",
   "execution_count": 1,
   "metadata": {
    "collapsed": false
   },
   "outputs": [],
   "source": [
    "%matplotlib notebook\n",
    "import os\n",
    "import boto3\n",
    "import pygrib\n",
    "import numpy as np\n",
    "import matplotlib.pyplot as plt\n",
    "import matplotlib.animation as animation\n",
    "from IPython.display import HTML\n",
    "import datetime\n",
    "import pandas as pd\n",
    "import types"
   ]
  },
  {
   "cell_type": "markdown",
   "metadata": {},
   "source": [
    "### Data preparation\n",
    "While NetCDF4 would be easier to analysem, GRIB -> NetCDF4 conversion with CDM tools gives a strange structure with 2D time variable and 1D time dimension, and may have unknown problems, so we analyse everything directly from GRIB."
   ]
  },
  {
   "cell_type": "code",
   "execution_count": null,
   "metadata": {
    "collapsed": true
   },
   "outputs": [],
   "source": [
    "## TODO: put and get files from the S3\n",
    "## lets analyse grib directly for January 2011.\n",
    "fmin = pygrib.open('/data.e2/ERA5_analysis/era5_202.128_2011_1_fc_v2.grb2')\n",
    "ft2m = pygrib.open('/data.e2/ERA5_analysis/era5_167.128_2011_1_fc_v2.grb2')\n",
    "ft2m_an = pygrib.open('/data.e2/ERA5_analysis/era5_167.128_2011_1_an_v1.grb2')"
   ]
  },
  {
   "cell_type": "code",
   "execution_count": null,
   "metadata": {
    "collapsed": true
   },
   "outputs": [],
   "source": [
    "window = 2 # total steps is window * 2 + 1\n",
    "max_count = ft2m_an.messages - window -7 \n",
    "max_count = 12\n",
    "\n",
    "def get_grib_time_step(in_fld):\n",
    "    \"\"\"\n",
    "    convert grib message time to timestamp, using step. Attention when using with aggregated fields like mn2t\n",
    "    \"\"\"\n",
    "    in_date = datetime.datetime(int(str(in_fld.date)[0:4]), int(str(in_fld.date)[4:6]), int(str(in_fld.date)[6:8]))\n",
    "    in_time = datetime.timedelta(hours=in_fld.time/100)\n",
    "    in_step = datetime.timedelta(hours=in_fld.step)\n",
    "    return in_date + in_time + in_step\n",
    "\n",
    "def get_diff(pre, suf, window, pre_suf_diff):\n",
    "    return {tstep_diff: [\n",
    "        (np.mean(pre[tstep_an].data()[0] - suf[tstep_an-pre_suf_diff+tstep_diff].data()[0]), \n",
    "         np.amin(pre[tstep_an].data()[0] - suf[tstep_an-pre_suf_diff+tstep_diff].data()[0]),\n",
    "         np.sum(np.where((pre[tstep_an].data()[0] - suf[tstep_an-pre_suf_diff+tstep_diff].data()[0])<-1,1,0)),\n",
    "         tstep_an, pre[tstep_an].step, suf[tstep_an-pre_suf_diff+tstep_diff].step,\n",
    "            get_grib_time_step(pre[tstep_an]), get_grib_time_step(suf[tstep_an-pre_suf_diff+tstep_diff]))\n",
    "            for tstep_an in range(pre_suf_diff+1+window, max_count+pre_suf_diff+1+window)]\n",
    "        for tstep_diff in range(-1*window, window+1)\n",
    "    }\n",
    "    \n",
    "## an2t_mn2t_diff -- difference between analysed 2t and forecasted mn2t. Note that analysis starts 7 hours before forecast.\n",
    "## an2t_fc2t_diff -- difference between analysed 2t and forecasted 2t\n",
    "## fc2t_mn2t_diff -- difference between forecasted 2t and forecasted mn2t\n",
    "\n",
    "an2t_mn2t_diff = get_diff(ft2m_an, fmin, window, 7)\n",
    "#an2t_fc2t_diff = get_diff(ft2m_an, ft2m, window, 0)\n",
    "fc2t_mn2t_diff = get_diff(ft2m, fmin, window, 0)"
   ]
  },
  {
   "cell_type": "code",
   "execution_count": null,
   "metadata": {
    "collapsed": true
   },
   "outputs": [],
   "source": [
    "def get_sm(infld, diff_add=0):\n",
    "    rd = {'Step diff':[], \"min\":[], \"mean\":[], \"median min\":[], \n",
    "          \"diff > -2 mean\":[], \n",
    "          \"diff > -2 max\":[], \n",
    "          \"diff > -2 min\":[]}\n",
    "    for k,v in infld.items():\n",
    "        atemp = np.array(v)\n",
    "        date_diff1 = np.diff(atemp[:,6])\n",
    "        date_diff2 = np.diff(atemp[:,7])\n",
    "        date_diff3 = list(map(datetime.timedelta.total_seconds, atemp[:,7] - atemp[:,6]))\n",
    "        assert np.amin(date_diff1) == np.amax(date_diff1)\n",
    "        assert np.amin(date_diff2) == np.amax(date_diff2)\n",
    "        assert np.isclose(float(np.mean(date_diff3)), float(k * 3600)), \"{0} {1} {2} {3}\".format(k, diff_add, np.mean(date_diff3), (k+diff_add)*3600)\n",
    "        rd['Step diff'].append(k)\n",
    "        rd['min'].append(np.amin(atemp[:,1]))\n",
    "        rd['mean'].append(np.mean(atemp[:,0]))\n",
    "        rd['median min'].append(np.median(atemp[:,1]))\n",
    "        rd['diff > -2 mean'].append(np.mean(atemp[:,2]))\n",
    "        rd['diff > -2 max'].append(np.amax(atemp[:,2]))\n",
    "        rd['diff > -2 min'].append(np.amin(atemp[:,2]))\n",
    "    return pd.DataFrame(rd).set_index('Step diff')"
   ]
  },
  {
   "cell_type": "markdown",
   "metadata": {},
   "source": [
    "### Forecasted 2t vs mn2t\n",
    "Here we show 2t-mn2t over several timesteps and several shifts between data steps. It is evident that the only case when median difference is not negative, is 1, i.e. where mn2t is taken next step from 2t. "
   ]
  },
  {
   "cell_type": "code",
   "execution_count": null,
   "metadata": {
    "collapsed": false
   },
   "outputs": [],
   "source": [
    "get_sm(fc2t_mn2t_diff)"
   ]
  },
  {
   "cell_type": "markdown",
   "metadata": {},
   "source": [
    "Step diff == 1 shows a case where minimum value of 2t-mn2t is mostly zero, except for the step 12 of 2t and 1 of mn2t. This can be illustrated by setting step_diff = 1 in the next graph. "
   ]
  },
  {
   "cell_type": "code",
   "execution_count": null,
   "metadata": {
    "collapsed": false
   },
   "outputs": [],
   "source": [
    "step_diff = 1\n",
    "atemp=np.array(fc2t_mn2t_diff[step_diff])\n",
    "fig, ax_1 = plt.subplots()\n",
    "ax_2 = ax_1.twinx()\n",
    "ax_1.plot(atemp[:,3],atemp[:,4], label='2t step')\n",
    "ax_1.plot(atemp[:,3],atemp[:,5], label='mn2t step')\n",
    "ax_1.set_ylabel(\"step\")\n",
    "ax_2.plot(atemp[:,3],atemp[:,1], '-*', c='r', label='min of 2t - mn2t')\n",
    "ax_2.set_ylabel(\"2t - mn2t\")\n",
    "ax_2.set_ylim([-10,1])\n",
    "ax_1.grid()\n",
    "ax_1.legend()\n",
    "ax_2.legend()\n",
    "plt.show()"
   ]
  },
  {
   "cell_type": "markdown",
   "metadata": {},
   "source": [
    "### Analysed 2t vs forecasted mn2t\n",
    "Next, lets see what happens when we replace the forecasted 2t to possibly more \"accurate\", analysed 2t."
   ]
  },
  {
   "cell_type": "code",
   "execution_count": null,
   "metadata": {
    "collapsed": false
   },
   "outputs": [],
   "source": [
    "get_sm(an2t_mn2t_diff)"
   ]
  },
  {
   "cell_type": "markdown",
   "metadata": {},
   "source": [
    "Apparenlty, for any timestep, there is a large number of grid points, where minimum temperature is more that 2 degrees higher than corresponding hourly temperature. Looking at single timesteps:"
   ]
  },
  {
   "cell_type": "code",
   "execution_count": null,
   "metadata": {
    "collapsed": false
   },
   "outputs": [],
   "source": [
    "atemp=np.array(an2t_mn2t_diff[1])\n",
    "fig, ax_1 = plt.subplots()\n",
    "ax_2 = ax_1.twinx()\n",
    "ax_2.set_ylabel(\"nr of net p's\")\n",
    "ax_1.plot(atemp[:,3],atemp[:,1])\n",
    "ax_2.plot(atemp[:,3], atemp[:,2], c='r', label=\"nr of neg p's\")\n",
    "ax_2.legend()\n",
    "plt.title(\"Min 2t-mn2t, number of gridpoints (2t-mn2t)<-2\")\n",
    "plt.show()"
   ]
  },
  {
   "cell_type": "markdown",
   "metadata": {},
   "source": [
    "To have a more visual view, let's look at full data in one timestep"
   ]
  },
  {
   "cell_type": "code",
   "execution_count": null,
   "metadata": {
    "collapsed": false
   },
   "outputs": [],
   "source": [
    "tstep = 10\n",
    "tstep_min = tstep + 1 \n",
    "anstep = tstep + 7\n",
    "assert get_grib_time_step(ft2m_an[anstep])==get_grib_time_step(fmin[tstep]), \"{0} {1}\".format(get_grib_time_step(ft2m_an[anstep]), get_grib_time_step(fmin[tstep]))\n",
    "fig=plt.figure()\n",
    "td = np.flipud(ft2m_an[anstep].data()[0] - fmin[tstep_min].data()[0])\n",
    "plt.pcolormesh(np.ma.masked_where(td > -0.1,td), cmap=plt.cm.Blues)\n",
    "plt.colorbar()\n",
    "plt.title(fmin[tstep+1].step)\n",
    "plt.show()"
   ]
  },
  {
   "cell_type": "markdown",
   "metadata": {},
   "source": [
    "Similar for 2t forecast vs mn2t"
   ]
  },
  {
   "cell_type": "code",
   "execution_count": null,
   "metadata": {
    "collapsed": false
   },
   "outputs": [],
   "source": [
    "tstep = 10\n",
    "tstep_min = tstep + 1\n",
    "anstep = tstep + 7\n",
    "assert get_grib_time_step(ft2m_an[anstep])==get_grib_time_step(ft2m[tstep]), \"{0} {1}\".format(get_grib_time_step(ft2m_an[anstep]), get_grib_time_step(ft2m[tstep]))\n",
    "fig=plt.figure()\n",
    "td = np.flipud(ft2m_an[anstep].data()[0] - ft2m[tstep_min].data()[0])\n",
    "plt.pcolormesh(np.ma.masked_where(td > -0.1,td), cmap=plt.cm.Blues)\n",
    "plt.colorbar()\n",
    "plt.title(fmin[tstep].step)\n",
    "plt.show()"
   ]
  },
  {
   "cell_type": "code",
   "execution_count": null,
   "metadata": {
    "collapsed": true
   },
   "outputs": [],
   "source": []
  }
 ],
 "metadata": {
  "kernelspec": {
   "display_name": "Python 3",
   "language": "python",
   "name": "python3"
  },
  "language_info": {
   "codemirror_mode": {
    "name": "ipython",
    "version": 3
   },
   "file_extension": ".py",
   "mimetype": "text/x-python",
   "name": "python",
   "nbconvert_exporter": "python",
   "pygments_lexer": "ipython3",
   "version": "3.4.3"
  }
 },
 "nbformat": 4,
 "nbformat_minor": 2
}
